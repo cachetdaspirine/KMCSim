{
 "cells": [
  {
   "cell_type": "code",
   "execution_count": 1,
   "metadata": {},
   "outputs": [
    {
     "name": "stdout",
     "output_type": "stream",
     "text": [
      "# -----------------------------------------------------------------------------\n",
      "# KMCLib version 2.0-a1\n",
      "# Distributed under the GPLv3 license\n",
      "# Copyright (C)  2012-2016  Mikael Leetmaa\n",
      "# Developed by Mikael Leetmaa <leetmaa@kth.se>\n",
      "#\n",
      "# This program is distributed in the hope that it will be useful\n",
      "# but WITHOUT ANY WARRANTY; without even the implied warranty of\n",
      "# MERCHANTABILITY or FITNESS FOR A PARTICULAR PURPOSE.  See the\n",
      "# LICENSE and README files, and the source code, for details.\n",
      "#\n",
      "# You should have received a copy of the GNU General Public License version 3\n",
      "# (GPLv3) along with this program. If not, see <http://www.gnu.org/licenses/>.\n",
      "# -----------------------------------------------------------------------------\n",
      "\n"
     ]
    },
    {
     "name": "stderr",
     "output_type": "stream",
     "text": [
      "/home/hcleroy/anaconda3/lib/python3.8/site-packages/numpy/core/getlimits.py:499: UserWarning: The value of the smallest subnormal for <class 'numpy.float64'> type is zero.\n",
      "  setattr(self, word, getattr(machar, word).flat[0])\n",
      "/home/hcleroy/anaconda3/lib/python3.8/site-packages/numpy/core/getlimits.py:89: UserWarning: The value of the smallest subnormal for <class 'numpy.float64'> type is zero.\n",
      "  return self._float_to_str(self.smallest_subnormal)\n",
      "/home/hcleroy/anaconda3/lib/python3.8/site-packages/numpy/core/getlimits.py:499: UserWarning: The value of the smallest subnormal for <class 'numpy.float32'> type is zero.\n",
      "  setattr(self, word, getattr(machar, word).flat[0])\n",
      "/home/hcleroy/anaconda3/lib/python3.8/site-packages/numpy/core/getlimits.py:89: UserWarning: The value of the smallest subnormal for <class 'numpy.float32'> type is zero.\n",
      "  return self._float_to_str(self.smallest_subnormal)\n"
     ]
    }
   ],
   "source": [
    "import numpy as np\n",
    "import matplotlib.pyplot as plt\n",
    "#kinetic monte-carlo imports\n",
    "from simple_lattice_simulation import *\n",
    "\n",
    "\n",
    "import sys\n",
    "sys.path.append('/home/hcleroy/PostDoc/active_phase_separation/Steady_State_Numerical/')\n",
    "\n",
    "import sparse_stoch_mat_central as sp_stoch_mat\n",
    "from functions import *\n"
   ]
  },
  {
   "attachments": {},
   "cell_type": "markdown",
   "metadata": {},
   "source": [
    "# Comparison between stochastic matrix diagonalization and KMC simulation\n",
    "## Parameter space:\n",
    "### Probability density formulation\n",
    "The master equation that controls the probability distribution as used in the stochastic matrix solution writes :\n",
    "$$ \n",
    "\\begin{cases}\n",
    "&\\partial_t \\rho_a = \\partial_x^2 \\rho_a +\\partial_x[\\rho_a \\partial_x V_a] + \\rho_b k_{ba} + \\rho_c k_{ca} - \\rho_a(k_{ac}+k_{ab})\\\\\n",
    "&\\partial_t \\rho_b = \\partial_x^2 \\rho_b +\\partial_x[\\rho_b \\partial_x V_b] + \\rho_a k_{ab} + \\rho_c k_{cb} - \\rho_b(k_{bc}+k_{ba})\\\\\n",
    "&\\partial_t \\rho_c = \\partial_x^2 \\rho_c +\\partial_x[\\rho_c \\partial_x V_c] + \\rho_a k_{ac} + \\rho_b k_{bc} - \\rho_c(k_{ca}+k_{cb})\\\\\n",
    "\\end{cases}\n",
    "$$\n",
    "with\n",
    "$$\n",
    "\\begin{cases}\n",
    "&k_{ab} =  e^{V_{AB}-V_A} \\hspace{1cm} k_{bc} = k_{bc}^0e^{V_{BC}-V_B} \\hspace{1cm} k_{ac} = k_{ac}^0 e^{V_{AC}-V_A}\\\\\n",
    "&k_{ba} =  e^{V_{AB}-V_B} \\hspace{1cm} k_{cb} = k_{bc}^0e^{V_{BC}-V_C} \\hspace{1cm} k_{ca} = k_{ac}^0 e^{V_{AC}+V_C}\n",
    "\\end{cases}\n",
    "$$\n",
    "with\n",
    "$$\n",
    "\\begin{aligned}\n",
    "&V_A(x) = V_A^0/2(1 + \\tanh(S_A x)) \\\\\n",
    "&V_B(x) = V_B^0/2(1 + \\tanh(S_B x)) \\\\\n",
    "&V_C(x) = V_C^0/2(1 + \\tanh(S_C x)) \\\\\n",
    "&V_{AB}(x) = max(V_A(x),V_B(x))+\\epsilon_{AB} \\\\\n",
    "&V_{AC}(x) = max(V_A(x),V_C(x))+\\epsilon_{AC} \\\\\n",
    "&V_{BC}(x) = max(V_B(x),V_C(x))+\\epsilon_{BC} \\\\\n",
    "\\end{aligned}\n",
    "$$\n",
    "The only free parameters are $k_{bc}^0$, $k_{ac}^0$, $V_A^0$, $V_B^0$, $V_C^0$, $S_A$, $S_B$, $S_C$, $\\epsilon_{AB}$, $\\epsilon_{AC}$, $\\epsilon_{BC}$\n",
    "### Langevin like dynamic\n",
    "In the kinetic Monte Carlo simulation, the particles undergo a Langevin-like dynamic in a discrete space. The chemical transition rate is the same as in the probability density formulation, but the diffusion occurs differently. At each timestep, a particle can hop to the left or right with a probability that is consistent with the Fokker-Planck equation. This hopping has an intrinsic rate of $k_\\text{diff}^0$ and results in a displacement of $\\text{d}x$ (which is fixed at 1). We can show (see Léa's computation) :\n",
    "$$\n",
    "D = 2\\text{d}x^2k_\\text{diff}^0\n",
    "$$\n",
    "Thus, $k_\\text{diff}^0$ is not a free parameter and should be set to 0.5.\n"
   ]
  },
  {
   "cell_type": "code",
   "execution_count": 11,
   "metadata": {},
   "outputs": [
    {
     "name": "stdout",
     "output_type": "stream",
     "text": [
      "dx_{SM} = 0.001\n"
     ]
    }
   ],
   "source": [
    "# Common Parameters :\n",
    "size = 10\n",
    "VA0,VB0,VC0 = 0.5,1.,2.\n",
    "steepA,steepB,steepC = .5,.5,.5\n",
    "Eab,Ebc,Eac = 0.,0.,0.\n",
    "Aab,Abc,Aac = 10.,1.,1.\n",
    "va = lambda x : VA0/2*(1+np.tanh((x-size/2)*steepA))\n",
    "vb = lambda x : VB0/2*(1+np.tanh((x-size/2)*steepB))\n",
    "vc = lambda x : VC0/2*(1+np.tanh((x-size/2)*steepC))\n",
    "\n",
    "#va = lambda x : 1. if x < size//2 else 0.\n",
    "#vb = lambda x : 0. if x < size//2 else 1.\n",
    "#vc = lambda x : 1. if x < size//2 else 0.\n",
    "# define all the Vs :\n",
    "def VA(X):\n",
    "    try:\n",
    "        if X.shape[0] == 3:\n",
    "            return va(X[0])\n",
    "        else:\n",
    "            raise ValueError\n",
    "    except:\n",
    "        return va(X)\n",
    "def VB(X):\n",
    "    try:\n",
    "        if X.shape[0] == 3:\n",
    "            return vb(X[0])\n",
    "        else:\n",
    "            raise ValueError\n",
    "    except:\n",
    "        return vb(X)\n",
    "def VC(X):\n",
    "    try:\n",
    "        if X.shape[0] == 3:\n",
    "            return vc(X[0])\n",
    "        else:\n",
    "            raise ValueError\n",
    "    except:\n",
    "        return vc(X)\n",
    "\n",
    "# The following expression of VAB,VAC,VBC should lead to the same rate than fixed relative barrier\n",
    "VAB= lambda X: Eab+max(VA(X),VB(X))\n",
    "VAC= lambda X: Eac+max(VC(X),VA(X))\n",
    "VBC= lambda X: Ebc+max(VB(X),VC(X))\n",
    "kbc0,kac0 = 1.,1.\n",
    "\n",
    "# stochastic matrix parameters :\n",
    "X0,Xf,n = 0,size,10000 # lower/higher spacial boundary and number of discretizing points\n",
    "dx = (Xf-X0)/n\n",
    "print('dx_{SM} = '+str(dx))\n",
    "\n",
    "kab0=1. # !!!!!!!!!!! this is not an adjustable parameter !!!!!!!!!!!!!!!!!\n",
    "kab = lambda X,*arg : np.array([kab0 * np.exp(-(VAB(x)-VA(x)))*arg[0] for x in X]) if type(X) == np.ndarray else kab0 * np.exp(-(VAB(X)-VA(X)))*arg[0] # arg is the activity\n",
    "kba = lambda X,*arg : np.array([kab0 * np.exp(-(VAB(x)-VB(x)))for x in X]) if type(X)==np.ndarray else kab0 * np.exp(-(VAB(X)-VB(X)))# no activity but it takes the same argument as kab\n",
    "kbc = lambda X,*arg : np.array([kbc0 * np.exp(-(VBC(x)-VB(x)))*arg[0]for x in X]) if type(X)==np.ndarray else kbc0 * np.exp(-(VBC(X)-VB(X)))*arg[0]# arg is the activity\n",
    "kcb = lambda X,*arg : np.array([kbc0 * np.exp(-(VBC(x)-VC(x)))for x in X]) if type(X) == np.ndarray else kbc0 * np.exp(-(VBC(X)-VC(X)))# no activity but it takes the same argument as kbc\n",
    "kac = lambda X,*arg : np.array([kac0 * np.exp(-(VAC(x)-VA(x)))*arg[0]for x in X]) if type(X) ==np.ndarray else kac0 * np.exp(-(VAC(X)-VA(X)))*arg[0]# arg is the activity\n",
    "kca = lambda X,*arg : np.array([kac0 * np.exp(-(VAC(x)-VC(x)))for x in X]) if type(X) == np.ndarray else kac0 * np.exp(-(VAC(X)-VC(X)))# no activity but it takes the same argument as kac\n",
    "\n",
    "# KMC simulation parameters :\n",
    "Nparticles = 1\n",
    "step_tot = 100000\n",
    "dump_interval = max(1,step_tot//10)\n",
    "analysis_interval = 1"
   ]
  },
  {
   "attachments": {},
   "cell_type": "markdown",
   "metadata": {},
   "source": [
    "## Perform the kinetic Monte-Carlo simulation"
   ]
  },
  {
   "cell_type": "code",
   "execution_count": 12,
   "metadata": {},
   "outputs": [],
   "source": [
    "\n",
    "OneDSim = OneDSimulation(size)\n",
    "#OneDSim.set_up_config(Nparticles)\n",
    "types = ['S']*size\n",
    "types[0]='A'\n",
    "#types[1]='B'\n",
    "#types[2]='C'\n",
    "OneDSim.set_up_specific_config(types,Nparticles=Nparticles)\n",
    "OneDSim.set_up_interactions(VA,VB,VC,VAB,VAC,VBC,kac0,kbc0,Aab,Aac,Abc)\n",
    "OneDSim.set_up_model()\n"
   ]
  },
  {
   "cell_type": "code",
   "execution_count": 13,
   "metadata": {},
   "outputs": [
    {
     "name": "stdout",
     "output_type": "stream",
     "text": [
      " KMCLib: setting up the backend C++ object.\n",
      " KMCLib: Runing for 100000 steps, starting from time: 0.000000\n",
      "\n",
      " KMCLib: 10000 steps executed. time:     2.3045346926e+03 \n",
      " KMCLib: 20000 steps executed. time:     4.6126635275e+03 \n",
      " KMCLib: 30000 steps executed. time:     6.9116962210e+03 \n",
      " KMCLib: 40000 steps executed. time:     9.2089318705e+03 \n",
      " KMCLib: 50000 steps executed. time:     1.1503504335e+04 \n",
      " KMCLib: 60000 steps executed. time:     1.3765019649e+04 \n",
      " KMCLib: 70000 steps executed. time:     1.6058463890e+04 \n",
      " KMCLib: 80000 steps executed. time:     1.8382456796e+04 \n",
      " KMCLib: 90000 steps executed. time:     2.0735913907e+04 \n",
      " KMCLib: 100000 steps executed. time:     2.3082365168e+04 \n",
      "execution time : 23.14346564800144\n"
     ]
    }
   ],
   "source": [
    "OneDSim.RUN(step_tot,dump_interval,analysis_interval)"
   ]
  },
  {
   "attachments": {},
   "cell_type": "markdown",
   "metadata": {},
   "source": [
    "## Do the same with the stochastic matrix"
   ]
  },
  {
   "cell_type": "code",
   "execution_count": 14,
   "metadata": {},
   "outputs": [],
   "source": [
    "Eq_Stoch_Mat = sp_stoch_mat.make_transition_matrix(VA,VB,VC,\n",
    "                                    kab,kba,kbc,kcb,kac,kca,\n",
    "                                    kab0,kbc0,kac0,\n",
    "                                    Aab=Aab,Abc=Abc,Aac=Aac,\n",
    "                                    X0=X0,Xf=Xf,n=n)\n",
    "rho_a_mat,rho_b_mat,rho_c_mat = get_kernel_stoch_mat(Eq_Stoch_Mat,dx)"
   ]
  },
  {
   "attachments": {},
   "cell_type": "markdown",
   "metadata": {},
   "source": [
    "## Compute the stat mech density profile"
   ]
  },
  {
   "cell_type": "code",
   "execution_count": 15,
   "metadata": {},
   "outputs": [],
   "source": [
    "rhoa_stat_mech = np.exp(-VA(np.linspace(X0,Xf,n,endpoint=False)))\n",
    "#rhoa_stat_mech = rhoa_stat_mech/sum(rhoa_stat_mech*dx)\n",
    "rhob_stat_mech = np.exp(-VB(np.linspace(X0,Xf,n,endpoint=False)))\n",
    "rhoc_stat_mech = np.exp(-VC(np.linspace(X0,Xf,n,endpoint=False)))\n",
    "SUM = sum(rhoa_stat_mech*dx)+sum(rhob_stat_mech*dx)+sum(rhoc_stat_mech*dx)\n",
    "rhoa_stat_mech,rhob_stat_mech,rhoc_stat_mech = rhoa_stat_mech/SUM,rhob_stat_mech/SUM,rhoc_stat_mech/SUM\n",
    "\n",
    "#SUM = sum(rhoa_stat_mech*dx)+sum(rhob_stat_mech*dx)\n",
    "#rhoa_stat_mech,rhob_stat_mech = rhoa_stat_mech/SUM,rhob_stat_mech/SUM"
   ]
  },
  {
   "attachments": {},
   "cell_type": "markdown",
   "metadata": {},
   "source": [
    "## Plot both results"
   ]
  },
  {
   "cell_type": "code",
   "execution_count": 16,
   "metadata": {},
   "outputs": [
    {
     "data": {
      "text/plain": [
       "[<matplotlib.lines.Line2D at 0x7f6528f76190>]"
      ]
     },
     "execution_count": 16,
     "metadata": {},
     "output_type": "execute_result"
    },
    {
     "data": {
      "image/png": "[encoded data removed]",
      "text/plain": [
       "<Figure size 432x288 with 2 Axes>"
      ]
     },
     "metadata": {
      "needs_background": "light"
     },
     "output_type": "display_data"
    }
   ],
   "source": [
    "X,rhois = OneDSim.get_density_profile()\n",
    "\n",
    "fig,ax = plt.subplots()\n",
    "ax.scatter(X,rhois[0])\n",
    "ax.scatter(X,rhois[1])\n",
    "ax.scatter(X,rhois[2])\n",
    "\n",
    "X_stoch_mat = np.linspace(X0,Xf,n,endpoint=False)\n",
    "ax.plot(X_stoch_mat,rho_a_mat)\n",
    "ax.plot(X_stoch_mat,rho_b_mat)\n",
    "ax.plot(X_stoch_mat,rho_c_mat)\n",
    "#ax.plot(X_stoch_mat,rhoa_stat_mech)\n",
    "#ax.plot(X_stoch_mat,rhob_stat_mech)\n",
    "#ax.plot(X_stoch_mat,rhoc_stat_mech)\n",
    "\n",
    "\n",
    "ax2 = ax.twinx()\n",
    "ax2.plot(X,VA(X),linestyle='--')\n",
    "ax2.plot(X,VB(X),linestyle='--')\n",
    "ax2.plot(X,VC(X),linestyle='--')"
   ]
  },
  {
   "attachments": {},
   "cell_type": "markdown",
   "metadata": {},
   "source": [
    "## Compare the flux"
   ]
  },
  {
   "cell_type": "code",
   "execution_count": 17,
   "metadata": {},
   "outputs": [],
   "source": [
    "X_sim,phis = OneDSim.get_diffusive_flux()"
   ]
  },
  {
   "cell_type": "code",
   "execution_count": 18,
   "metadata": {},
   "outputs": [],
   "source": [
    "A_diff_flux = diff_flux(rho_a_mat,VA(np.linspace(X0,Xf,n,endpoint=False)),dx)\n",
    "B_diff_flux = diff_flux(rho_b_mat,VB(np.linspace(X0,Xf,n,endpoint=False)),dx)\n",
    "C_diff_flux = diff_flux(rho_c_mat,VC(np.linspace(X0,Xf,n,endpoint=False)),dx)"
   ]
  },
  {
   "cell_type": "code",
   "execution_count": 19,
   "metadata": {},
   "outputs": [
    {
     "data": {
      "text/plain": [
       "[<matplotlib.lines.Line2D at 0x7f652a6a98e0>]"
      ]
     },
     "execution_count": 19,
     "metadata": {},
     "output_type": "execute_result"
    },
    {
     "data": {
      "image/png": "[encoded data removed]",
      "text/plain": [
       "<Figure size 432x288 with 1 Axes>"
      ]
     },
     "metadata": {
      "needs_background": "light"
     },
     "output_type": "display_data"
    }
   ],
   "source": [
    "plt.scatter(X_sim,phis['A'])\n",
    "plt.scatter(X_sim,phis['B'])\n",
    "plt.scatter(X_sim,phis['C'])\n",
    "\n",
    "plt.plot(np.linspace(X0,Xf,n,endpoint=False),A_diff_flux)\n",
    "plt.plot(np.linspace(X0,Xf,n,endpoint=False),B_diff_flux)\n",
    "plt.plot(np.linspace(X0,Xf,n,endpoint=False),C_diff_flux)"
   ]
  },
  {
   "cell_type": "code",
   "execution_count": null,
   "metadata": {},
   "outputs": [],
   "source": []
  }
 ],
 "metadata": {
  "kernelspec": {
   "display_name": "base",
   "language": "python",
   "name": "python3"
  },
  "language_info": {
   "codemirror_mode": {
    "name": "ipython",
    "version": 3
   },
   "file_extension": ".py",
   "mimetype": "text/x-python",
   "name": "python",
   "nbconvert_exporter": "python",
   "pygments_lexer": "ipython3",
   "version": "3.8.8 (default, Apr 13 2021, 19:58:26) \n[GCC 7.3.0]"
  },
  "orig_nbformat": 4,
  "vscode": {
   "interpreter": {
    "hash": "e6364083f9be986069f114f9a103f91518cea9154773b5e0908e7861a01b50e5"
   }
  }
 },
 "nbformat": 4,
 "nbformat_minor": 2
}
