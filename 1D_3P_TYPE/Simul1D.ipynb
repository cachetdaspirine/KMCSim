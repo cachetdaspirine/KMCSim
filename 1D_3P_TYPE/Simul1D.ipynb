{
 "cells": [
  {
   "cell_type": "code",
   "execution_count": 1,
   "metadata": {},
   "outputs": [
    {
     "name": "stdout",
     "output_type": "stream",
     "text": [
      "# -----------------------------------------------------------------------------\n",
      "# KMCLib version 2.0-a1\n",
      "# Distributed under the GPLv3 license\n",
      "# Copyright (C)  2012-2016  Mikael Leetmaa\n",
      "# Developed by Mikael Leetmaa <leetmaa@kth.se>\n",
      "#\n",
      "# This program is distributed in the hope that it will be useful\n",
      "# but WITHOUT ANY WARRANTY; without even the implied warranty of\n",
      "# MERCHANTABILITY or FITNESS FOR A PARTICULAR PURPOSE.  See the\n",
      "# LICENSE and README files, and the source code, for details.\n",
      "#\n",
      "# You should have received a copy of the GNU General Public License version 3\n",
      "# (GPLv3) along with this program. If not, see <http://www.gnu.org/licenses/>.\n",
      "# -----------------------------------------------------------------------------\n",
      "\n"
     ]
    }
   ],
   "source": [
    "import numpy as np\n",
    "import matplotlib.pyplot as plt\n",
    "from KMCLib import *\n",
    "import time\n",
    "#from KMCAnalysis_single_trajectory import *\n",
    "\n"
   ]
  },
  {
   "attachments": {},
   "cell_type": "markdown",
   "metadata": {},
   "source": [
    "# Introduction\n",
    "We simulate a 1D system of particles. There are three types of particles : {A,B,C}, plus S the solvent. Each of them can diffuse (right or left), and can also react alone according to : \n",
    "$$\n",
    "\\begin{aligned}\n",
    "&A \\leftrightarrow B \\\\\n",
    "&B\\leftrightarrow C \\\\\n",
    "&A \\leftrightarrow C\n",
    "\\end{aligned}\n",
    "$$\n",
    "according to the reaction constant : $k_{ab}$,$k_{ba}$,$k_{ac}$,$k_{ca}$,$k_{bc}$,$k_{cb}$\n",
    "\n",
    "The particles also interact with an external potential set by :\n",
    "$$\n",
    "\\begin{aligned}\n",
    "&V_A(x) = V_A^0/2(1 + \\tanh(S_A x)) \\\\\n",
    "&V_B(x) = V_B^0/2(1 + \\tanh(S_B x)) \\\\\n",
    "&V_C(x) = V_C^0/2(1 + \\tanh(S_C x))\n",
    "\\end{aligned}\n",
    "$$\n",
    "\n",
    "We write the transition rates :\n",
    "\n",
    "![alt text](transition_rate.png \"Transition states\")\n",
    "\n",
    "$$\n",
    "\\begin{cases}\n",
    "&k_{ab} = k_{ab}^0 e^{V_{AB}-V_A} \\hspace{1cm} k_{bc} = k_{bc}^0e^{V_{BC}-V_B} \\hspace{1cm} k_{ac} = k_{ac}^0 e^{V_{AC}-V_A}\\\\\n",
    "&k_{ba} = k_{ab}^0 e^{V_{AB}-V_B} \\hspace{1cm} k_{cb} = k_{bc}^0e^{V_{BC}-V_C} \\hspace{1cm} k_{ca} = k_{ac}^0 e^{V_{AC}+V_C}\n",
    "\\end{cases}\n",
    "$$\n",
    "\n",
    "We write $\\forall I,J \\hspace{0.5cm} V_{IJ} = V_I+V_J$\n",
    "\n",
    "Which means that the transition rates simplifies to:\n",
    "\n",
    "$$\n",
    "\\begin{cases}\n",
    "&k_{ab} = k_{ab}^0 e^{V_{B}} \\hspace{1cm} k_{bc} = k_{bc}^0e^{V_{C}} \\hspace{1cm} k_{ac} = k_{ac}^0 e^{V_{C}}\\\\\n",
    "&k_{ba} = k_{ab}^0 e^{V_{A}} \\hspace{1cm} k_{cb} = k_{bc}^0e^{V_{B}} \\hspace{1cm} k_{ca} = k_{ac}^0 e^{V_{A}}\n",
    "\\end{cases}\n",
    "$$\n"
   ]
  },
  {
   "cell_type": "code",
   "execution_count": 2,
   "metadata": {},
   "outputs": [],
   "source": [
    "# parameters :\n",
    "size = 10\n",
    "rho0 = 0.1 # density of the overall number of particles"
   ]
  },
  {
   "cell_type": "code",
   "execution_count": 3,
   "metadata": {},
   "outputs": [],
   "source": [
    "# Define a squared unit cell of size 1x1x1.\n",
    "cell_vectors = [[   1.000000e+00,   0.000000e+00,   0.000000e+00],\n",
    "                [   0.000000e+00,   1.000000e+00,   0.000000e+00],\n",
    "                [   0.000000e+00,   0.000000e+00,   1.000000e+00]]\n",
    "# Define a unique point within the unit cell\n",
    "basis_points = [[   0.500000e+00,   0.500000e+00,   0.500000e+00]]\n",
    "unit_cell = KMCUnitCell(cell_vectors=cell_vectors,\n",
    "                        basis_points=basis_points)\n",
    "                        # Define a 1D lattice of size size\n",
    "lattice = KMCLattice(unit_cell=unit_cell,\n",
    "                     repetitions=(size,1,1),\n",
    "                     periodic=(False, False, False))"
   ]
  },
  {
   "cell_type": "code",
   "execution_count": 4,
   "metadata": {},
   "outputs": [],
   "source": [
    "def get_space_point(lattice):\n",
    "    \"\"\"\n",
    "    return the real space position of the basis points.\n",
    "    This function use the unit cell and the repetition\n",
    "    informations to generate a set of basis points throughout space.\n",
    "    \"\"\"\n",
    "    res = list()\n",
    "    for b in lattice.basis():\n",
    "        #res.append([b[0],b[1],b[2]])\n",
    "        #for d in range(3):\n",
    "        for l3 in range(0,lattice.repetitions()[2]):\n",
    "            for l2 in range(0,lattice.repetitions()[1]):\n",
    "                for l1 in range(0,lattice.repetitions()[0]):\n",
    "                    line = list()\n",
    "                        #line.append([b+l1*lattice.unitCell().cellVectors()[0]+l2*lattice.unitCell().cellVectors()[1]+l3*lattice.unitCell().cellVectors()[2]])\n",
    "                    for db in range(3):\n",
    "                        line.append(b[db]+l1*lattice.unitCell().cellVectors()[0][db]+l2*lattice.unitCell().cellVectors()[1][db]+l3*lattice.unitCell().cellVectors()[2][db])\n",
    "                    res.append(line)\n",
    "    return np.array(res)\n",
    "\n",
    "def Index_from_X(x,lattice):\n",
    "        \"\"\"\n",
    "        x is a 3D vector point\n",
    "        This function works together with get_space_point. given a x,\n",
    "        it returns the corresponding index of get_space_point.\n",
    "        !!!! Only works for 1 basis point, and squared lattice!!!!\n",
    "        \"\"\"\n",
    "        x = x- lattice.basis()[0] # remove the coordinate of the first lattice basis point\n",
    "        Ix = x[0]/lattice.unitCell().cellVectors()[0][0]\n",
    "        Iy = x[1]/lattice.unitCell().cellVectors()[1][1]\n",
    "        Iz = x[2]/lattice.unitCell().cellVectors()[2][2]\n",
    "        return int(Ix + Iy*lattice.repetitions()[0]+ Iz*lattice.repetitions()[0]*lattice.repetitions()[1])"
   ]
  },
  {
   "cell_type": "code",
   "execution_count": 5,
   "metadata": {},
   "outputs": [
    {
     "data": {
      "text/plain": [
       "[0, 1, 2, 3, 4, 5, 6, 7, 8, 9]"
      ]
     },
     "execution_count": 5,
     "metadata": {},
     "output_type": "execute_result"
    }
   ],
   "source": [
    "[Index_from_X(x,lattice) for x in get_space_point(lattice)]"
   ]
  },
  {
   "cell_type": "code",
   "execution_count": 6,
   "metadata": {},
   "outputs": [],
   "source": [
    "# Generate the initial configuration array\n",
    "types = ['S']*(size)# solvent everywhere\n",
    "\"\"\"\n",
    "Nparticles=0\n",
    "k=0\n",
    "while Nparticles<1 or k>10**3:\n",
    "    Nparticles = np.random.poisson(rho0*size)# total number of particles in the system\n",
    "    k+=1\n",
    "for i in np.random.randint(0,size,size = Nparticles):\n",
    "    types[i] = 'A'  # we start with only A particles\n",
    "\"\"\"\n",
    "types[size//2] = 'A'\n",
    "#types[1] = 'B'\n",
    "#types[2] = 'C'\n",
    "Nparticle = 1\n",
    "config = KMCConfiguration(lattice=lattice,\n",
    "                          types=types,\n",
    "                          possible_types=['S','A','B','C'])\n",
    "#print(config._script())"
   ]
  },
  {
   "cell_type": "code",
   "execution_count": 7,
   "metadata": {},
   "outputs": [],
   "source": [
    "VA0,VB0,VC0 = 1.,1.,1.\n",
    "steepA,steepB,steepC = .5,.5,.5\n",
    "Eab,Ebc,Eac = 0.,0.,0.\n",
    "\n",
    "def VA(X):\n",
    "   # if X[0]<=(size)//2-0.5:\n",
    "   #     return 1.\n",
    "   # else :\n",
    "   #     return 0.\n",
    "    try:\n",
    "        if X.shape[0]==3:\n",
    "            return VA0/2*(1+np.tanh((X[0]-size/2)*steepA))\n",
    "        else:\n",
    "            raise ValueError\n",
    "    except:\n",
    "        return VA0/2*(1+np.tanh((X-size/2)*steepA))\n",
    "def VB(X):\n",
    "    return VB0/2*(1+np.tanh((X[0]-size/2)*steepB))\n",
    "def VC(X):\n",
    "    return VC0/2*(1+np.tanh((X[0]-size/2)*steepC))\n",
    "def VAB(X):\n",
    "    return Eab+max(VA(X),VB(X))\n",
    "def VAC(X):\n",
    "    return Eac+max(VC(X),VA(X))\n",
    "def VBC(X):\n",
    "    return Ebc+max(VB(X),VC(X))\n",
    "Vs = {'A':VA,'B':VB,'C':VC,'S':lambda X:0.,\n",
    "    'AB':VAB,'BA':VAB,'AC':VAC,'CA':VAC,'BC':VBC,'CB':VBC}\n",
    "\n",
    "from KMCLib.PluginInterfaces.KMCRateCalculatorPlugin import KMCRateCalculatorPlugin\n",
    "\n",
    "\n",
    "\n",
    "class CustomPlugin(KMCRateCalculatorPlugin):\n",
    "    def rate(self,coords,types_before,types_after,rate_constant,process_number,global_coordinate):\n",
    "        #print('moved_ID = '+str(moved_ID))\n",
    "        if types_before.__len__()==1:\n",
    "            #return rate_constant*np.exp(-Vs[types_after[0]](global_coordinate+coords[0])+Vs[types_before[0]](global_coordinate+coords[0]))\n",
    "            return rate_constant* np.exp(-(Vs[types_after[0]+types_before[0]](global_coordinate+coords[0])-Vs[types_before[0]](global_coordinate+coords[0])))\n",
    "            \"\"\"if types_after[0] =='A':\n",
    "                return rate_constant*np.exp(VA(global_coordinate))\n",
    "            elif types_after[0]=='B':\n",
    "                return rate_constant*np.exp(VB(global_coordinate))\n",
    "            elif types_after[0]=='C':\n",
    "                return rate_constant*np.exp(VC(global_coordinate))\"\"\"\n",
    "        else:\n",
    "            E_before = sum([Vs[types_before[i]](global_coordinate+coords[i]) for i in range(types_before.__len__())])\n",
    "            E_after = sum([Vs[types_after[i]](global_coordinate+coords[i]) for i in range(types_before.__len__())])\n",
    "            \"\"\"\n",
    "            print('-------------------------------------------------------------------------')\n",
    "            print('coordinates of the move')\n",
    "            print([global_coordinate[0]+coords[i][0] for i in range(types_before.__len__())])\n",
    "            print('type before the move')\n",
    "            print(types_before)\n",
    "            print('type after the move')\n",
    "            print(types_after)\n",
    "            print('energy initially')\n",
    "            print(E_before)\n",
    "            print('energy after')\n",
    "            print(E_after)\n",
    "            print('rate of the move')\n",
    "            print(rate_constant*np.exp(-E_after+E_before))\n",
    "            print('-------------------------------------------------------------------------')\n",
    "            \"\"\"\n",
    "            return rate_constant*np.exp((-E_after+E_before)/2)\n",
    "        return 1.\n",
    "    \n",
    "    def cutoff(self):\n",
    "        \"\"\" Determines the cutoff for this custom model \"\"\"\n",
    "        return 0.0"
   ]
  },
  {
   "cell_type": "code",
   "execution_count": 8,
   "metadata": {},
   "outputs": [],
   "source": [
    "import Process\n",
    "# just diffusive process so far\n",
    "interactions  = Process.make_interactions(1.,1.,ChemicalMove=True)\n",
    "#from CustomRate import *\n",
    "interactions.setRateCalculator(rate_calculator=CustomPlugin)\n",
    "\n",
    "# Generate the KMC model to run.\n",
    "model = KMCLatticeModel(configuration=config,\n",
    "                        interactions=interactions)\n",
    "control_parameters = KMCControlParameters(number_of_steps=10000,\n",
    "                                          dump_interval=1000,\n",
    "                                          analysis_interval=1,\n",
    "                                          seed=None)\n",
    "\n",
    "from KMCAnalysis_density_distribution import *\n",
    "from KMCAnalysis_single_trajectory import *\n",
    "from KMCAnalysis_diffusive_flux import *\n",
    "MyAnalysis = [Density_thermal_av(['A','B','C'],\n",
    "                    control_parameters.analysisInterval(),\n",
    "                    control_parameters.numberOfSteps()),\n",
    "                DiffusiveFlux(['A','B','C'],\n",
    "                    control_parameters.analysisInterval(),\n",
    "                    control_parameters.numberOfSteps()),\n",
    "                SingleTrajectory('A',\n",
    "                    control_parameters.analysisInterval(),\n",
    "                    control_parameters.numberOfSteps())]#,\n",
    "                #SingleTrajectory('B',\n",
    "                #    control_parameters.analysisInterval(),\n",
    "                #    control_parameters.numberOfSteps()),\n",
    "                #SingleTrajectory('C',\n",
    "                #    control_parameters.analysisInterval(),\n",
    "                #    control_parameters.numberOfSteps())]"
   ]
  },
  {
   "cell_type": "code",
   "execution_count": 9,
   "metadata": {},
   "outputs": [
    {
     "name": "stdout",
     "output_type": "stream",
     "text": [
      " KMCLib: setting up the backend C++ object.\n",
      " KMCLib: Runing for 10000 steps, starting from time: 0.000000\n",
      "\n",
      " KMCLib: 1000 steps executed. time:     2.5813085282e+02 \n",
      " KMCLib: 2000 steps executed. time:     5.2501743784e+02 \n",
      " KMCLib: 3000 steps executed. time:     7.9602143428e+02 \n",
      " KMCLib: 4000 steps executed. time:     1.0564371957e+03 \n",
      " KMCLib: 5000 steps executed. time:     1.2988919596e+03 \n",
      " KMCLib: 6000 steps executed. time:     1.5535032691e+03 \n",
      " KMCLib: 7000 steps executed. time:     1.8397071407e+03 \n",
      " KMCLib: 8000 steps executed. time:     2.1207352124e+03 \n",
      " KMCLib: 9000 steps executed. time:     2.3858693053e+03 \n",
      " KMCLib: 10000 steps executed. time:     2.6588779774e+03 \n",
      "execution time : 2.6827072050000424\n"
     ]
    }
   ],
   "source": [
    "t0 = time.perf_counter()\n",
    "model.run(control_parameters,trajectory_filename='test.py',\n",
    "          trajectory_type='xyz',\n",
    "          analysis = MyAnalysis)\n",
    "print('execution time : '+str(time.perf_counter()-t0))"
   ]
  },
  {
   "cell_type": "code",
   "execution_count": 10,
   "metadata": {},
   "outputs": [
    {
     "data": {
      "text/plain": [
       "(array([0.5, 1.5, 2.5, 3.5, 4.5, 5.5, 6.5, 7.5, 8.5, 9.5]),\n",
       " array([-0.0003799 ,  0.00075979, -0.00265928,  0.00227938,  0.00075979,\n",
       "        -0.00417887, -0.0003799 ,  0.00569846, -0.00531856,  0.00341908]))"
      ]
     },
     "execution_count": 10,
     "metadata": {},
     "output_type": "execute_result"
    }
   ],
   "source": [
    "get_space_point(config.lattice())[:,0],MyAnalysis[1].results()['A']"
   ]
  },
  {
   "cell_type": "code",
   "execution_count": 11,
   "metadata": {},
   "outputs": [
    {
     "name": "stderr",
     "output_type": "stream",
     "text": [
      "/home/hcleroy/anaconda3/lib/python3.8/site-packages/numpy/core/getlimits.py:499: UserWarning: The value of the smallest subnormal for <class 'numpy.float64'> type is zero.\n",
      "  setattr(self, word, getattr(machar, word).flat[0])\n",
      "/home/hcleroy/anaconda3/lib/python3.8/site-packages/numpy/core/getlimits.py:89: UserWarning: The value of the smallest subnormal for <class 'numpy.float64'> type is zero.\n",
      "  return self._float_to_str(self.smallest_subnormal)\n"
     ]
    },
    {
     "data": {
      "text/plain": [
       "<matplotlib.collections.PathCollection at 0x7f998579fd60>"
      ]
     },
     "execution_count": 11,
     "metadata": {},
     "output_type": "execute_result"
    },
    {
     "data": {
      "image/png": "[encoded data removed]",
      "text/plain": [
       "<Figure size 432x288 with 1 Axes>"
      ]
     },
     "metadata": {
      "needs_background": "light"
     },
     "output_type": "display_data"
    }
   ],
   "source": [
    "plt.scatter(get_space_point(config.lattice())[:,0],MyAnalysis[1].results()['A'])\n",
    "plt.scatter(get_space_point(config.lattice())[:,0],MyAnalysis[1].results()['B'])\n",
    "plt.scatter(get_space_point(config.lattice())[:,0],MyAnalysis[1].results()['C'])"
   ]
  },
  {
   "cell_type": "code",
   "execution_count": 12,
   "metadata": {},
   "outputs": [
    {
     "data": {
      "text/plain": [
       "[<matplotlib.lines.Line2D at 0x7f9985657520>]"
      ]
     },
     "execution_count": 12,
     "metadata": {},
     "output_type": "execute_result"
    },
    {
     "data": {
      "image/png": "[encoded data removed]",
      "text/plain": [
       "<Figure size 432x288 with 2 Axes>"
      ]
     },
     "metadata": {
      "needs_background": "light"
     },
     "output_type": "display_data"
    }
   ],
   "source": [
    "#########################\n",
    "#########################\n",
    "#Not the right normalization most likely\n",
    "fig,ax = plt.subplots()\n",
    "#ax.plot(get_space_point(config.lattice())[:,0],rho_stat_mech)\n",
    "ax.scatter(get_space_point(config.lattice())[:,0],MyAnalysis[0].results()[0]/Nparticle)\n",
    "#ax.scatter(get_space_point(config.lattice())[:,0],MyAnalysis[0].results()[1]/Nparticle)\n",
    "#ax.scatter(get_space_point(config.lattice())[:,0],MyAnalysis[0].results()[2]/Nparticle)\n",
    "ax2 = ax.twinx()\n",
    "ax2.plot(get_space_point(config.lattice())[:,0],[VA(x) for x in get_space_point(config.lattice())])\n",
    "#ax2.plot(get_space_point(config.lattice())[:,0],[VB(x) for x in get_space_point(config.lattice())])\n",
    "#ax2.plot(get_space_point(config.lattice())[:,0],[VC(x) for x in get_space_point(config.lattice())])"
   ]
  },
  {
   "cell_type": "code",
   "execution_count": 13,
   "metadata": {},
   "outputs": [
    {
     "ename": "NameError",
     "evalue": "name 'rho_stat_mech' is not defined",
     "output_type": "error",
     "traceback": [
      "\u001b[0;31m---------------------------------------------------------------------------\u001b[0m",
      "\u001b[0;31mNameError\u001b[0m                                 Traceback (most recent call last)",
      "\u001b[1;32m/home/hcleroy/PostDoc/active_phase_separation/KMCSim/1D_3P_TYPE_EQ/Simul1D.ipynb Cell 14\u001b[0m in \u001b[0;36m<cell line: 1>\u001b[0;34m()\u001b[0m\n\u001b[0;32m----> <a href='vscode-notebook-cell:/home/hcleroy/PostDoc/active_phase_separation/KMCSim/1D_3P_TYPE_EQ/Simul1D.ipynb#X15sZmlsZQ%3D%3D?line=0'>1</a>\u001b[0m \u001b[39mprint\u001b[39m(\u001b[39msum\u001b[39m(rho_stat_mech))\n\u001b[1;32m      <a href='vscode-notebook-cell:/home/hcleroy/PostDoc/active_phase_separation/KMCSim/1D_3P_TYPE_EQ/Simul1D.ipynb#X15sZmlsZQ%3D%3D?line=1'>2</a>\u001b[0m \u001b[39mprint\u001b[39m(\u001b[39msum\u001b[39m(MyAnalysis[\u001b[39m0\u001b[39m]\u001b[39m.\u001b[39mresults()[\u001b[39m0\u001b[39m]))\n",
      "\u001b[0;31mNameError\u001b[0m: name 'rho_stat_mech' is not defined"
     ]
    }
   ],
   "source": [
    "print(sum(rho_stat_mech))\n",
    "print(sum(MyAnalysis[0].results()[0]))"
   ]
  },
  {
   "cell_type": "code",
   "execution_count": null,
   "metadata": {},
   "outputs": [
    {
     "name": "stdout",
     "output_type": "stream",
     "text": [
      "0.2808028591557123\n",
      "0.02851776077853754\n",
      "0.4446016857966014\n"
     ]
    }
   ],
   "source": [
    "for i in range(3):\n",
    "    print(np.sum(MyAnalysis[0].results()[i]))"
   ]
  },
  {
   "cell_type": "code",
   "execution_count": null,
   "metadata": {},
   "outputs": [
    {
     "name": "stdout",
     "output_type": "stream",
     "text": [
      "0.5\n",
      "0.5\n",
      "0.5\n"
     ]
    }
   ],
   "source": [
    "for b in config.lattice().basis():\n",
    "    for db in range(3):        \n",
    "        print(b[db])"
   ]
  },
  {
   "cell_type": "code",
   "execution_count": null,
   "metadata": {},
   "outputs": [],
   "source": []
  }
 ],
 "metadata": {
  "kernelspec": {
   "display_name": "base",
   "language": "python",
   "name": "python3"
  },
  "language_info": {
   "codemirror_mode": {
    "name": "ipython",
    "version": 3
   },
   "file_extension": ".py",
   "mimetype": "text/x-python",
   "name": "python",
   "nbconvert_exporter": "python",
   "pygments_lexer": "ipython3",
   "version": "3.8.8 (default, Apr 13 2021, 19:58:26) \n[GCC 7.3.0]"
  },
  "orig_nbformat": 4,
  "vscode": {
   "interpreter": {
    "hash": "1d5eeb8876f044179b361bcddd340056e6c77a1f8539f3472ec98ae68ef2c035"
   }
  }
 },
 "nbformat": 4,
 "nbformat_minor": 2
}
