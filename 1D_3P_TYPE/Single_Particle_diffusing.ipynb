{
 "cells": [
  {
   "cell_type": "code",
   "execution_count": 1,
   "id": "0b8abc2e",
   "metadata": {},
   "outputs": [
    {
     "name": "stdout",
     "output_type": "stream",
     "text": [
      "# -----------------------------------------------------------------------------\n",
      "# KMCLib version 2.0-a1\n",
      "# Distributed under the GPLv3 license\n",
      "# Copyright (C)  2012-2016  Mikael Leetmaa\n",
      "# Developed by Mikael Leetmaa <leetmaa@kth.se>\n",
      "#\n",
      "# This program is distributed in the hope that it will be useful\n",
      "# but WITHOUT ANY WARRANTY; without even the implied warranty of\n",
      "# MERCHANTABILITY or FITNESS FOR A PARTICULAR PURPOSE.  See the\n",
      "# LICENSE and README files, and the source code, for details.\n",
      "#\n",
      "# You should have received a copy of the GNU General Public License version 3\n",
      "# (GPLv3) along with this program. If not, see <http://www.gnu.org/licenses/>.\n",
      "# -----------------------------------------------------------------------------\n",
      "\n"
     ]
    },
    {
     "name": "stderr",
     "output_type": "stream",
     "text": [
      "/home/hcleroy/anaconda3/lib/python3.8/site-packages/numpy/core/getlimits.py:499: UserWarning: The value of the smallest subnormal for <class 'numpy.float64'> type is zero.\n",
      "  setattr(self, word, getattr(machar, word).flat[0])\n",
      "/home/hcleroy/anaconda3/lib/python3.8/site-packages/numpy/core/getlimits.py:89: UserWarning: The value of the smallest subnormal for <class 'numpy.float64'> type is zero.\n",
      "  return self._float_to_str(self.smallest_subnormal)\n",
      "/home/hcleroy/anaconda3/lib/python3.8/site-packages/numpy/core/getlimits.py:499: UserWarning: The value of the smallest subnormal for <class 'numpy.float32'> type is zero.\n",
      "  setattr(self, word, getattr(machar, word).flat[0])\n",
      "/home/hcleroy/anaconda3/lib/python3.8/site-packages/numpy/core/getlimits.py:89: UserWarning: The value of the smallest subnormal for <class 'numpy.float32'> type is zero.\n",
      "  return self._float_to_str(self.smallest_subnormal)\n"
     ]
    }
   ],
   "source": [
    "import numpy as np\n",
    "import matplotlib.pyplot as plt\n",
    "from KMCLib import *\n",
    "\n",
    "# import jtplot submodule from jupyterthemes\n",
    "from jupyterthemes import jtplot\n",
    "\n",
    "from KMCAnalysis_single_trajectory import *\n",
    "from gradient_color_line import *\n",
    "# currently installed theme will be used to\n",
    "# set plot style if no arguments provided\n",
    "jtplot.style()"
   ]
  },
  {
   "cell_type": "code",
   "execution_count": 2,
   "id": "f231d2fd",
   "metadata": {},
   "outputs": [],
   "source": [
    "# Define a squared unit cell.\n",
    "cell_vectors = [[   0.2800000e+00,   0.000000e+00,   0.000000e+00],\n",
    "                [   0.000000e+00,   1.000000e+00,   0.000000e+00],\n",
    "                [   0.000000e+00,   0.000000e+00,   1.000000e+00]]\n",
    "# idk what this does\n",
    "basis_points = [[   0.000000e+00,   0.000000e+00,   0.000000e+00]]\n",
    "unit_cell = KMCUnitCell(cell_vectors=cell_vectors,\n",
    "                        basis_points=basis_points)"
   ]
  },
  {
   "cell_type": "code",
   "execution_count": 3,
   "id": "94a0c006",
   "metadata": {},
   "outputs": [],
   "source": [
    "# Define the lattice\n",
    "size = 5\n",
    "lattice = KMCLattice(unit_cell=unit_cell,\n",
    "                     repetitions=(size,size,1),\n",
    "                     periodic=(True, True, False))"
   ]
  },
  {
   "cell_type": "code",
   "execution_count": 34,
   "id": "43a6b10e",
   "metadata": {
    "scrolled": true
   },
   "outputs": [
    {
     "name": "stdout",
     "output_type": "stream",
     "text": [
      "\n",
      "# -----------------------------------------------------------------------------\n",
      "# Unit cell\n",
      "\n",
      "cell_vectors = [[   2.800000e-01,   0.000000e+00,   0.000000e+00],\n",
      "                [   0.000000e+00,   1.000000e+00,   0.000000e+00],\n",
      "                [   0.000000e+00,   0.000000e+00,   1.000000e+00]]\n",
      "\n",
      "basis_points = [[   0.000000e+00,   0.000000e+00,   0.000000e+00]]\n",
      "\n",
      "unit_cell = KMCUnitCell(\n",
      "    cell_vectors=cell_vectors,\n",
      "    basis_points=basis_points)\n",
      "\n",
      "# -----------------------------------------------------------------------------\n",
      "# Lattice\n",
      "\n",
      "lattice = KMCLattice(\n",
      "    unit_cell=unit_cell,\n",
      "    repetitions=(5,5,1),\n",
      "    periodic=(True, True, False))\n",
      "\n",
      "# -----------------------------------------------------------------------------\n",
      "# Configuration\n",
      "\n",
      "types = ['E','E','E','E','E','E','E','E','E','P','E','E','E',\n",
      "         'E','E','E','E','E','E','E','E','E','E','E','E']\n",
      "\n",
      "possible_types = ['E','P']\n",
      "\n",
      "configuration = KMCConfiguration(\n",
      "    lattice=lattice,\n",
      "    types=types,\n",
      "    possible_types=possible_types)\n",
      "\n"
     ]
    }
   ],
   "source": [
    "# Generate the initial configuration array\n",
    "types = ['E']*(size*size)\n",
    "types[np.random.randint(0,size*size)] = 'P'\n",
    "config = KMCConfiguration(lattice=lattice,\n",
    "                          types=types,\n",
    "                          possible_types=['E','P'])\n",
    "print(config._script())"
   ]
  },
  {
   "cell_type": "code",
   "execution_count": 45,
   "id": "b5400892",
   "metadata": {},
   "outputs": [],
   "source": [
    "# Setup a diffusion process to the left.\n",
    "#                   center site      second site on -1\n",
    "coordinates_p0 = [[0.0, 0.0, 0.0],[0.0, -1.0, 0.0]]\n",
    "p0 = KMCProcess(coordinates=coordinates_p0,\n",
    "                elements_before=['P','E'],\n",
    "                elements_after=['E','P'],\n",
    "                move_vectors=None,\n",
    "                basis_sites=[0],\n",
    "                rate_constant=1.)\n",
    "\n",
    "# Setup a diffusion process to the right.\n",
    "#                  center site      second site on 1\n",
    "coordinates_p1 = [[0.0, 0.0, 0.0],[0.0, 1.0, 0.0]]\n",
    "p1 = KMCProcess(coordinates=coordinates_p1,\n",
    "                elements_before=['P','E'],\n",
    "                elements_after=['E','P'],\n",
    "                move_vectors=None,\n",
    "                basis_sites=[0],\n",
    "                rate_constant=1.)\n",
    "# Setup a diffusion process to the top.\n",
    "coordinates_p2 = [[0.0, 0.0, 0.0],[1.0, 0.0, 0.0]]\n",
    "p2 = KMCProcess(coordinates=coordinates_p2,\n",
    "                elements_before=['P','E'],\n",
    "                elements_after=['E','P'],\n",
    "                move_vectors=None,\n",
    "                basis_sites=[0],\n",
    "                rate_constant=1.)\n",
    "# Setup a diffusion process to the right.\n",
    "coordinates_p3 = [[0.0, 0.0, 0.0],[-1.0, 0.0, 0.0]]\n",
    "p3 = KMCProcess(coordinates=coordinates_p3,\n",
    "                elements_before=['P','E'],\n",
    "                elements_after=['E','P'],\n",
    "                move_vectors=None,\n",
    "                basis_sites=[0],\n",
    "                rate_constant=1.)\n",
    "\n",
    "\n",
    "# Construct the interactions object.\n",
    "interactions = KMCInteractions(processes=[p0])#, p1, p2, p3],)"
   ]
  },
  {
   "cell_type": "code",
   "execution_count": 46,
   "id": "a3b7a542",
   "metadata": {},
   "outputs": [],
   "source": [
    "# Generate the KMC model to run.\n",
    "model = KMCLatticeModel(configuration=config,\n",
    "                        interactions=interactions)\n",
    "control_parameters = KMCControlParameters(number_of_steps=10,\n",
    "                                          dump_interval=1,\n",
    "                                          analysis_interval=1,\n",
    "                                          seed=None)\n",
    "# generate the analysis object\n",
    "MyAnalysis = [SingleTrajectory('P',\n",
    "                              control_parameters.analysisInterval(),\n",
    "                              control_parameters.numberOfSteps())]"
   ]
  },
  {
   "cell_type": "code",
   "execution_count": 47,
   "id": "64065756",
   "metadata": {
    "scrolled": true
   },
   "outputs": [
    {
     "name": "stdout",
     "output_type": "stream",
     "text": [
      " KMCLib: setting up the backend C++ object.\n",
      "[9]\n",
      " KMCLib: Runing for 10 steps, starting from time: 0.000000\n",
      "\n",
      " KMCLib: 1 steps executed. time:     3.0861432828e-01 \n",
      " KMCLib: 2 steps executed. time:     1.3511845849e+00 \n",
      " KMCLib: 3 steps executed. time:     4.4720055403e+00 \n",
      " KMCLib: 4 steps executed. time:     5.0705346630e+00 \n",
      " KMCLib: 5 steps executed. time:     6.8112177010e+00 \n",
      " KMCLib: 6 steps executed. time:     6.9514318987e+00 \n",
      " KMCLib: 7 steps executed. time:     9.6678217779e+00 \n",
      " KMCLib: 8 steps executed. time:     9.9137300907e+00 \n",
      " KMCLib: 9 steps executed. time:     1.0918965141e+01 \n",
      " KMCLib: 10 steps executed. time:     1.4396735500e+01 \n"
     ]
    }
   ],
   "source": [
    "model.run(control_parameters,trajectory_filename='test.py',\n",
    "          trajectory_type='lattice',\n",
    "          analysis = MyAnalysis)"
   ]
  },
  {
   "cell_type": "code",
   "execution_count": 48,
   "id": "e5be6a4d",
   "metadata": {},
   "outputs": [
    {
     "data": {
      "text/plain": [
       "(<Figure size 460.8x403.2 with 1 Axes>, <AxesSubplot:>)"
      ]
     },
     "execution_count": 48,
     "metadata": {},
     "output_type": "execute_result"
    },
    {
     "data": {
      "image/png": "[encoded data removed]",
      "text/plain": [
       "<Figure size 460.8x403.2 with 1 Axes>"
      ]
     },
     "metadata": {},
     "output_type": "display_data"
    }
   ],
   "source": [
    "plot_gradient(MyAnalysis[0].results()[0][:,0], \n",
    "              MyAnalysis[0].results()[0][:,1])"
   ]
  },
  {
   "cell_type": "code",
   "execution_count": 39,
   "id": "102fae64",
   "metadata": {},
   "outputs": [
    {
     "data": {
      "text/plain": [
       "array([[  1.,   2.,   0.],\n",
       "       [  1.,   0.,   0.],\n",
       "       [  1.,  -2.,   0.],\n",
       "       [  1.,  -4.,   0.],\n",
       "       [  1.,  -6.,   0.],\n",
       "       [  1.,  -8.,   0.],\n",
       "       [  1., -10.,   0.],\n",
       "       [  1., -12.,   0.],\n",
       "       [  1., -14.,   0.],\n",
       "       [  1., -16.,   0.]])"
      ]
     },
     "execution_count": 39,
     "metadata": {},
     "output_type": "execute_result"
    }
   ],
   "source": [
    "MyAnalysis[0].results()[0]"
   ]
  },
  {
   "cell_type": "code",
   "execution_count": null,
   "id": "61ab9ec0",
   "metadata": {},
   "outputs": [],
   "source": []
  }
 ],
 "metadata": {
  "kernelspec": {
   "display_name": "Python 3.8.8 ('base')",
   "language": "python",
   "name": "python3"
  },
  "language_info": {
   "codemirror_mode": {
    "name": "ipython",
    "version": 3
   },
   "file_extension": ".py",
   "mimetype": "text/x-python",
   "name": "python",
   "nbconvert_exporter": "python",
   "pygments_lexer": "ipython3",
   "version": "3.8.8"
  },
  "vscode": {
   "interpreter": {
    "hash": "1d5eeb8876f044179b361bcddd340056e6c77a1f8539f3472ec98ae68ef2c035"
   }
  }
 },
 "nbformat": 4,
 "nbformat_minor": 5
}
