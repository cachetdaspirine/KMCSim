{
 "cells": [
  {
   "cell_type": "code",
   "execution_count": 1,
   "id": "28a21b97",
   "metadata": {},
   "outputs": [
    {
     "name": "stdout",
     "output_type": "stream",
     "text": [
      "# -----------------------------------------------------------------------------\n",
      "# KMCLib version 2.0-a1\n",
      "# Distributed under the GPLv3 license\n",
      "# Copyright (C)  2012-2016  Mikael Leetmaa\n",
      "# Developed by Mikael Leetmaa <leetmaa@kth.se>\n",
      "#\n",
      "# This program is distributed in the hope that it will be useful\n",
      "# but WITHOUT ANY WARRANTY; without even the implied warranty of\n",
      "# MERCHANTABILITY or FITNESS FOR A PARTICULAR PURPOSE.  See the\n",
      "# LICENSE and README files, and the source code, for details.\n",
      "#\n",
      "# You should have received a copy of the GNU General Public License version 3\n",
      "# (GPLv3) along with this program. If not, see <http://www.gnu.org/licenses/>.\n",
      "# -----------------------------------------------------------------------------\n",
      "\n"
     ]
    }
   ],
   "source": [
    "import numpy as np\n",
    "import time\n",
    "import matplotlib.pyplot as plt\n",
    "from KMCLib import *\n",
    "\n",
    "# import jtplot submodule from jupyterthemes\n",
    "from jupyterthemes import jtplot\n",
    "\n",
    "from KMCAnalysis_single_trajectory import *\n",
    "from gradient_color_line import *\n",
    "\n",
    "# currently installed theme will be used to\n",
    "# set plot style if no arguments provided\n",
    "jtplot.style()"
   ]
  },
  {
   "cell_type": "code",
   "execution_count": 2,
   "id": "8a929161",
   "metadata": {},
   "outputs": [],
   "source": [
    "# Define a squared unit cell.\n",
    "cell_vectors = [[   1.0000000e+00,   0.000000e+00,   0.000000e+00],\n",
    "                [   0.000000e+00,   1.000000e+00,   0.000000e+00],\n",
    "                [   0.000000e+00,   0.000000e+00,   1.000000e+00]]\n",
    "# idk what this does\n",
    "basis_points = [[   0.000000e+00,   0.000000e+00,   0.000000e+00]]\n",
    "unit_cell = KMCUnitCell(cell_vectors=cell_vectors,\n",
    "                        basis_points=basis_points)"
   ]
  },
  {
   "cell_type": "code",
   "execution_count": 3,
   "id": "931b1510",
   "metadata": {},
   "outputs": [],
   "source": [
    "# Define the lattice\n",
    "size = 100\n",
    "lattice = KMCLattice(unit_cell=unit_cell,\n",
    "                     repetitions=(size,size,1),\n",
    "                     periodic=(True, True, False))"
   ]
  },
  {
   "cell_type": "code",
   "execution_count": 4,
   "id": "95c5ef4e",
   "metadata": {
    "tags": []
   },
   "outputs": [
    {
     "name": "stdout",
     "output_type": "stream",
     "text": [
      "7677\n"
     ]
    }
   ],
   "source": [
    "# Size of the polymer \n",
    "polymer_size = 3\n",
    "if polymer_size >= size:\n",
    "    print('polymer bigger than the box')\n",
    "    raise InvalideSizeError\n",
    "# Generate the initial configuration array\n",
    "types = ['E']*(size*size)\n",
    "# index of a random non-border site\n",
    "yr,xr = np.random.randint(0,size-(1+polymer_size)),np.random.randint(0,size)\n",
    "bound_IDs = dict()\n",
    "for i in range(polymer_size):\n",
    "    if i ==0:\n",
    "        print(yr*size+xr)\n",
    "        bound_IDs[xr+size*yr] = (xr+size*(yr+2),)\n",
    "    elif i==polymer_size-1:\n",
    "        bound_IDs[xr+size*(yr+2*i)] = (xr+size*(yr+2*(i-1)),)\n",
    "    else:\n",
    "        bound_IDs[xr+size*(yr+2*i)] = (xr+size*(yr+2*i-2),xr+size*(yr+2*(i+1)))\n",
    "    #add all the neighboring particles\n",
    "    types[xr+size*(yr+2*i)] = 'P'#+str(i)\n",
    "\n",
    "\n",
    "\n",
    "config = KMCConfiguration(lattice=lattice,\n",
    "                          types=types,\n",
    "                          possible_types=['E'].append(['P']),\n",
    "                          bound_IDs = bound_IDs)#+str(i) for i in range(polymer_size)]))\n",
    "#print(config._script())"
   ]
  },
  {
   "cell_type": "code",
   "execution_count": 5,
   "id": "bc206810-63c8-469c-8e30-206645471d40",
   "metadata": {},
   "outputs": [
    {
     "name": "stdout",
     "output_type": "stream",
     "text": [
      "{7677: (7877,), 7877: (7677, 8077), 8077: (7877,)}\n"
     ]
    }
   ],
   "source": [
    "print(config.bound_IDs)"
   ]
  },
  {
   "cell_type": "code",
   "execution_count": 6,
   "id": "e652360d",
   "metadata": {},
   "outputs": [
    {
     "name": "stdout",
     "output_type": "stream",
     "text": [
      "4\n"
     ]
    }
   ],
   "source": [
    "from Simple_Processes import *\n",
    "from Rate_Calculator import *\n",
    "#processes = Generate_Processes(3)\n",
    "print(processes.__len__())\n",
    "interactions = KMCInteractions(processes=processes)\n",
    "interactions.setRateCalculator(rate_calculator=CustomPlugin)"
   ]
  },
  {
   "cell_type": "code",
   "execution_count": 7,
   "id": "c3f0062f",
   "metadata": {},
   "outputs": [],
   "source": [
    "# Generate the KMC model to run.\n",
    "model = KMCLatticeModel(configuration=config,\n",
    "                        interactions=interactions)\n",
    "control_parameters = KMCControlParameters(number_of_steps=10,\n",
    "                                          dump_interval=1,\n",
    "                                          analysis_interval=1,\n",
    "                                          seed=None)\n",
    "# generate the analysis object\n",
    "MyAnalysis = [SingleTrajectory('P',\n",
    "                              control_parameters.analysisInterval(),\n",
    "                              control_parameters.numberOfSteps())]"
   ]
  },
  {
   "cell_type": "code",
   "execution_count": 8,
   "id": "cfe30dc4",
   "metadata": {
    "tags": []
   },
   "outputs": [
    {
     "name": "stdout",
     "output_type": "stream",
     "text": [
      " KMCLib: setting up the backend C++ object.\n",
      "12\n",
      "<KMCLib.Backend.Backend.Interactions; proxy of <Swig Object of type 'Interactions *' at 0x7f3cc10de2d0> >\n",
      "[7677 7877 8077]\n",
      " KMCLib: Runing for 10 steps, starting from time: 0.000000\n",
      "\n",
      " KMCLib: 1 steps executed. time:     1.0534497804e-01 \n",
      " KMCLib: 2 steps executed. time:     1.9411667296e-01 \n",
      " KMCLib: 3 steps executed. time:     2.7861039914e-01 \n",
      " KMCLib: 4 steps executed. time:     5.2514581636e-01 \n",
      " KMCLib: 5 steps executed. time:     3.9661564431e+08 \n",
      " KMCLib: 6 steps executed. time:     6.5112857993e+08 \n",
      " KMCLib: 7 steps executed. time:     6.5112857999e+08 \n",
      " KMCLib: 8 steps executed. time:     1.7001988828e+09 \n",
      " KMCLib: 9 steps executed. time:     3.4928556321e+09 \n",
      " KMCLib: 10 steps executed. time:     6.6334951207e+09 \n",
      "execution time : 2.626801624000109\n"
     ]
    }
   ],
   "source": [
    "t0 = time.perf_counter()\n",
    "model.run(control_parameters,trajectory_filename='test.py',\n",
    "          trajectory_type='xyz',\n",
    "          analysis = MyAnalysis,)\n",
    "print('execution time : '+str(time.perf_counter()-t0))"
   ]
  },
  {
   "cell_type": "code",
   "execution_count": null,
   "id": "930c1437",
   "metadata": {},
   "outputs": [],
   "source": []
  }
 ],
 "metadata": {
  "kernelspec": {
   "display_name": "Python 3",
   "language": "python",
   "name": "python3"
  },
  "language_info": {
   "codemirror_mode": {
    "name": "ipython",
    "version": 3
   },
   "file_extension": ".py",
   "mimetype": "text/x-python",
   "name": "python",
   "nbconvert_exporter": "python",
   "pygments_lexer": "ipython3",
   "version": "3.10.6 (main, Nov  2 2022, 18:53:38) [GCC 11.3.0]"
  },
  "vscode": {
   "interpreter": {
    "hash": "916dbcbb3f70747c44a77c7bcd40155683ae19c65e1c03b4aa3499c5328201f1"
   }
  }
 },
 "nbformat": 4,
 "nbformat_minor": 5
}
