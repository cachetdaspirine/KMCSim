{
 "cells": [
  {
   "cell_type": "code",
   "execution_count": 1,
   "id": "a2e15c8e",
   "metadata": {},
   "outputs": [],
   "source": [
    "import numpy as np\n",
    "import matplotlib.pyplot as plt\n",
    "import math\n",
    "import copy"
   ]
  },
  {
   "cell_type": "markdown",
   "id": "afe203d3",
   "metadata": {},
   "source": [
    "# A generative algorithm\n",
    "We create a generative algorithm. Starting with a given configuration of the three particles, we consider every possible move of a single particle.\n",
    "## initial configuration\n",
    "We consider three particles : i, i+1, i+2, they belong to a square lattice, their positions (in lattice index) are denoted : $(x_i,y_i) (x_{i1},y_{i1}), (x_{i2},y_{i2})$. The excluded volume impose a minimum distance : \n",
    "$$(x_k-x_l) + (y_k-y_l) >= 2$$\n",
    "## Moves\n",
    "We move each particle according to one of the moving vectors defined as :\n",
    "$$(1,0), (-1,0), (0,1), (0,-1) $$\n",
    "We then check if the excluded volume is respected and append the resulting configuration to the list of possible moves if so\n",
    "## "
   ]
  },
  {
   "cell_type": "code",
   "execution_count": 16,
   "id": "e9f33d61",
   "metadata": {},
   "outputs": [],
   "source": [
    "def distance(xy0,xy1):\n",
    "    return np.sqrt((xy0[0]-xy1[0])**2+(xy0[1]-xy1[1])**2+(xy0[2]-xy1[2])**2)\n",
    "def truncate(number, digits) -> float:\n",
    "    stepper = 10.0 ** digits\n",
    "    return math.trunc(stepper * number) / stepper\n",
    "moves_v = np.array([[1,0,0],[-1,0,0],[0,1,0],[0,-1,0]])\n",
    "distance_set = {0,2.,truncate(np.sqrt(2),3),truncate(np.sqrt(5),3)}#,3,truncate(2*2**0.5,3)}\n",
    "class Configuration:\n",
    "    \"\"\"\n",
    "    configuration class on which the moves are applied.\n",
    "    -> the positions of the particles are stored in the referential\n",
    "    of the i=0 one:\n",
    "    the class contain the required checks :\n",
    "    -> check_excluded : returns False if any particles violate\n",
    "                        the excluded volume requirement\n",
    "    -> check_distances : returns False if any distances violate\n",
    "                         the bonds distances requirement\n",
    "    \"\"\"\n",
    "    def __init__(self,position_vector=None,Nparticles = 3):\n",
    "        self.Nparticles=Nparticles\n",
    "        # initial configuration with Nparticles aligned separated by an empty site\n",
    "        if type(position_vector) == np.ndarray:\n",
    "            self.position_v = position_vector\n",
    "        else:\n",
    "            self.position_v = np.array([[0,2*i,0] for i in range(self.Nparticles)])\n",
    "        self.initial_position = copy.copy(self.position_v)\n",
    "    def get_tuple_position(self):\n",
    "        return tuple(map(tuple, self.position_v))\n",
    "    def reset_position(self):\n",
    "        self.position_v = copy.copy(self.initial_position)\n",
    "    def check_excluded(self):\n",
    "        # check if no particle is within the neighboring of another one\n",
    "        for xy0 in self.position_v:\n",
    "            for xy1 in self.position_v:\n",
    "                if (xy0 != xy1).any():\n",
    "                    if sum(abs(xy0-xy1))<2:\n",
    "                        return False\n",
    "        return True\n",
    "    def check_distances(self):\n",
    "        for i in range(self.position_v.shape[0]-1):\n",
    "            #for xy1 in self.position_v:\n",
    "            xy0 = self.position_v[i]\n",
    "            xy1 = self.position_v[i+1]\n",
    "            if not truncate(distance(xy0,xy1),3) in distance_set:\n",
    "                return False\n",
    "        return True\n",
    "    def apply_move(self,i,v):\n",
    "        \"\"\"\n",
    "        apply the moving vector v to the ith particle\n",
    "        then translate the system to have the 0th\n",
    "        particle at point (0,0)\n",
    "        \"\"\"\n",
    "        self.position_v[i] += v\n",
    "        self.position_v-= self.position_v[0]\n",
    "    def print_configuration(self):\n",
    "        to_print = [['0 ' for _ in range(2*self.Nparticles+2)] for _ in range(2*self.Nparticles+2)]\n",
    "        #to_print.fill(\" 0 \")\n",
    "        for ij in self.position_v:\n",
    "            to_print[ij[0]-self.position_v[1,0]+3][ij[1]-self.position_v[1,1]+3] = \"1 \"\n",
    "            #to_print[ij[0]+3][ij[1]+3] = \"1 \"\n",
    "            # First row\n",
    "        print(f\"  \", end='')\n",
    "        for j in range(8):\n",
    "            print(f\"| {j+1} \", end='')\n",
    "        print(f\"| \", end='')\n",
    "        print()\n",
    "        print(f'{(8*4+4)*\"-\"}')\n",
    "        A=''\n",
    "        for i in range(len(to_print)):\n",
    "            print(f\"{chr(65+i)} \", end='')\n",
    "            for j in range(len(to_print[0])):\n",
    "                if to_print[i][j]=='0 ':\n",
    "                    print(f\"| {' '} \", end='')\n",
    "                else:\n",
    "                    print(f\"| {'1'} \", end='')\n",
    "            print(f\"| \", end='')\n",
    "            print()\n",
    "            print(f'{(8*4+4)*\"-\"}')\n",
    "                #print(to_print[j][i],end='')\n",
    "        print(A)"
   ]
  },
  {
   "cell_type": "code",
   "execution_count": 17,
   "id": "719d6b6b",
   "metadata": {
    "tags": []
   },
   "outputs": [
    {
     "name": "stdout",
     "output_type": "stream",
     "text": [
      "  | 1 | 2 | 3 | 4 | 5 | 6 | 7 | 8 | \n",
      "------------------------------------\n",
      "A |   |   |   |   |   |   |   |   | \n",
      "------------------------------------\n",
      "B |   |   |   |   |   |   |   |   | \n",
      "------------------------------------\n",
      "C |   |   |   |   |   |   |   |   | \n",
      "------------------------------------\n",
      "D |   | 1 |   | 1 |   | 1 |   |   | \n",
      "------------------------------------\n",
      "E |   |   |   |   |   |   |   |   | \n",
      "------------------------------------\n",
      "F |   |   |   |   |   |   |   |   | \n",
      "------------------------------------\n",
      "G |   |   |   |   |   |   |   |   | \n",
      "------------------------------------\n",
      "H |   |   |   |   |   |   |   |   | \n",
      "------------------------------------\n",
      "\n"
     ]
    }
   ],
   "source": [
    "# Start with a configuration with three particles aligned\n",
    "config = Configuration()\n",
    "config.print_configuration()"
   ]
  },
  {
   "cell_type": "markdown",
   "id": "113033a5-f1be-4ac9-ac9f-f024bf329fb1",
   "metadata": {},
   "source": [
    "### Start by generating all the possible configuration"
   ]
  },
  {
   "cell_type": "code",
   "execution_count": 18,
   "id": "2ff71d44-bde1-4203-86c1-60539e906413",
   "metadata": {
    "tags": []
   },
   "outputs": [
    {
     "name": "stdout",
     "output_type": "stream",
     "text": [
      "6\n"
     ]
    }
   ],
   "source": [
    "# set that stores a unique sample of configuration\n",
    "config_set_move1 = set()\n",
    "config = Configuration()\n",
    "# apply each vector moves to each particles:\n",
    "#config_set_move1.add(config.get_tuple_position())\n",
    "for v in moves_v:\n",
    "    for p in range(config.Nparticles):\n",
    "        config.reset_position()\n",
    "        config.apply_move(p,v)\n",
    "        #config.print_configuration()\n",
    "        if not config.check_distances() or not config.check_excluded():\n",
    "            continue\n",
    "        config_set_move1.add(config.get_tuple_position())\n",
    "print(config_set_move1.__len__())"
   ]
  },
  {
   "cell_type": "code",
   "execution_count": 19,
   "id": "311600f5-bb12-465b-8109-5d2108125900",
   "metadata": {
    "tags": []
   },
   "outputs": [],
   "source": [
    "#for position in list(config_set_move1):\n",
    "#    print(position)\n",
    "#    Configuration(np.array(position)).print_configuration()"
   ]
  },
  {
   "cell_type": "code",
   "execution_count": 20,
   "id": "687d94f6-30f0-4529-913b-ab98283000a2",
   "metadata": {
    "jupyter": {
     "source_hidden": true
    },
    "tags": []
   },
   "outputs": [
    {
     "name": "stdout",
     "output_type": "stream",
     "text": [
      "17\n"
     ]
    }
   ],
   "source": [
    "# set that stores a unique sample of configuration\n",
    "config_set_move2 = set()\n",
    "config = Configuration()\n",
    "# apply each vector moves to each particles:\n",
    "for position in config_set_move1:\n",
    "    config = Configuration(np.array(position))\n",
    "    for v in moves_v:\n",
    "        for p in range(config.Nparticles):\n",
    "            config.reset_position()\n",
    "            config.apply_move(p,v)\n",
    "            #config.print_configuration()\n",
    "            if not config.check_distances() or not config.check_excluded() or config.get_tuple_position in config_set_move1:\n",
    "                continue\n",
    "            config_set_move2.add(config.get_tuple_position())\n",
    "print(config_set_move2.__len__())"
   ]
  },
  {
   "cell_type": "code",
   "execution_count": 7,
   "id": "be7d1a8f-342e-415b-b609-1e7468cbf385",
   "metadata": {
    "tags": []
   },
   "outputs": [],
   "source": [
    "#for position in list(config_set_move2):\n",
    "#    print(position)\n",
    "#    Configuration(np.array(position)).print_configuration()"
   ]
  },
  {
   "cell_type": "markdown",
   "id": "b55a0313-44f8-4b10-a0ed-eb99853634b2",
   "metadata": {},
   "source": [
    "### Compute all the possible position vector"
   ]
  },
  {
   "cell_type": "code",
   "execution_count": 21,
   "id": "b25ffd7c-54d1-4a76-8d65-403431418a70",
   "metadata": {},
   "outputs": [
    {
     "name": "stdout",
     "output_type": "stream",
     "text": [
      "208\n"
     ]
    }
   ],
   "source": [
    "# set that stores a unique sample of configuration\n",
    "config_set_tot = set()\n",
    "new_config_set = set()\n",
    "config = Configuration()\n",
    "# initialize the set with the first configuration\n",
    "new_config_set.add(config.get_tuple_position())\n",
    "# if all the position in new_config_set are already in config_set_top\n",
    "# it means that we have all the configuration have been explored\n",
    "while (new_config_set-new_config_set.intersection(config_set_tot)).__len__()!=0:\n",
    "    config_set_tot |= new_config_set\n",
    "    #print((new_config_set-new_config_set.intersection(config_set_tot)).__len__())\n",
    "    previous_new_config_set = copy.copy(new_config_set)\n",
    "    new_config_set = set()\n",
    "    for position in previous_new_config_set:\n",
    "        config = Configuration(np.array(position))\n",
    "        for v in moves_v:\n",
    "            for p in range(config.Nparticles):\n",
    "                config.reset_position()\n",
    "                config.apply_move(p,v)\n",
    "                #config.print_configuration()\n",
    "                if not config.check_distances() or not config.check_excluded():\n",
    "                    continue\n",
    "                new_config_set.add(config.get_tuple_position())\n",
    "print(config_set_tot.__len__())"
   ]
  },
  {
   "cell_type": "code",
   "execution_count": 22,
   "id": "bc36ed6f-8196-4b2d-9064-dacf3ec34472",
   "metadata": {},
   "outputs": [],
   "source": [
    "def test_if_middle_particle_moved(position1,position2):\n",
    "    \"\"\"\n",
    "    Given two position vector, this function test if it is possible\n",
    "    to go from one to the other by just moving the middle particle.\n",
    "    \"\"\"\n",
    "    if position1[0]!=position2[0] or position1[2]!=position2[2]:\n",
    "        return False\n",
    "    if abs(position1[1][0]-position2[1][0])+abs(position1[1][1]-position2[1][1])==1:\n",
    "        #print(np.append(np.array(position1),np.array([position2[1]]),axis=0))\n",
    "        #print(position1,position2)\n",
    "        return True\n",
    "    return False"
   ]
  },
  {
   "cell_type": "markdown",
   "id": "d5b5b964-7511-422e-84d5-156c7d4ec4bf",
   "metadata": {},
   "source": [
    "### Compute all the processes coordinates for the middle particles"
   ]
  },
  {
   "cell_type": "code",
   "execution_count": 23,
   "id": "e85edb38-bce3-4686-9b7f-493aebfdd0f4",
   "metadata": {},
   "outputs": [
    {
     "name": "stdout",
     "output_type": "stream",
     "text": [
      "(208, 4, 3)\n"
     ]
    }
   ],
   "source": [
    "Coordinates_middle = list()\n",
    "for position1 in config_set_tot:\n",
    "    #old_size = Coordinates_middle.__len__()\n",
    "    for position2 in config_set_tot:\n",
    "        if test_if_middle_particle_moved(position1,position2):\n",
    "            Coordinates_middle.append(np.append(np.array(position1),np.array([position2[1]]),axis=0))\n",
    "    #if Coordinates_middle.__len__()-old_size==0:\n",
    "    #    config = Configuration(np.array(position1))\n",
    "    #    config.print_configuration()\n",
    "Coordinates_middle=np.array(Coordinates_middle)\n",
    "print(Coordinates_middle.shape)"
   ]
  },
  {
   "cell_type": "markdown",
   "id": "ce51f97b-67bc-4cb7-9523-746caefaed93",
   "metadata": {},
   "source": [
    "## Compute all the processes coordinate for the side particles\n",
    "### Start by computing all the possible 2 particles configuration"
   ]
  },
  {
   "cell_type": "code",
   "execution_count": 24,
   "id": "a5724a73-85a7-4516-bd7c-2ae27b8b7f0d",
   "metadata": {},
   "outputs": [
    {
     "name": "stdout",
     "output_type": "stream",
     "text": [
      "16\n"
     ]
    }
   ],
   "source": [
    "# set that stores a unique sample of configuration\n",
    "config_set_tot2 = set()\n",
    "new_config_set = set()\n",
    "config = Configuration(Nparticles=2)\n",
    "# initialize the set with the first configuration\n",
    "new_config_set.add(config.get_tuple_position())\n",
    "# if all the position in new_config_set are already in config_set_top\n",
    "# it means that we have all the configuration have been explored\n",
    "while (new_config_set-new_config_set.intersection(config_set_tot2)).__len__()!=0:\n",
    "    config_set_tot2 |= new_config_set\n",
    "    #print((new_config_set-new_config_set.intersection(config_set_tot)).__len__())\n",
    "    previous_new_config_set = copy.copy(new_config_set)\n",
    "    new_config_set = set()\n",
    "    for position in previous_new_config_set:\n",
    "        config = Configuration(np.array(position),Nparticles=2)\n",
    "        for v in moves_v:\n",
    "            for p in range(config.Nparticles):\n",
    "                config.reset_position()\n",
    "                config.apply_move(p,v)\n",
    "                #config.print_configuration()\n",
    "                if not config.check_distances() or not config.check_excluded():\n",
    "                    continue\n",
    "                new_config_set.add(config.get_tuple_position())\n",
    "print(config_set_tot2.__len__())"
   ]
  },
  {
   "cell_type": "code",
   "execution_count": 25,
   "id": "a3f10dc4-a385-4fe2-b53d-c7d23b7878b9",
   "metadata": {},
   "outputs": [],
   "source": [
    "def test_if_2_particle_moved(position1,position2):\n",
    "    \"\"\"\n",
    "    Given two position vector, this function test if it is possible\n",
    "    to go from one to the other by just moving the middle particle.\n",
    "    \"\"\"\n",
    "    if abs(position1[1][0]-position2[1][0])+abs(position1[1][1]-position2[1][1])==1:\n",
    "        #print(np.append(np.array(position1),np.array([position2[1]]),axis=0))\n",
    "        return True\n",
    "    return False"
   ]
  },
  {
   "cell_type": "code",
   "execution_count": 26,
   "id": "fc505dd7-958c-43c7-a0ab-3d956abf3288",
   "metadata": {},
   "outputs": [
    {
     "name": "stdout",
     "output_type": "stream",
     "text": [
      "(32, 3, 3)\n"
     ]
    }
   ],
   "source": [
    "Coordinates_extrem = list()\n",
    "for position1 in config_set_tot2:\n",
    "    #old_size = Coordinates_middle.__len__()\n",
    "    for position2 in config_set_tot2:\n",
    "        if test_if_2_particle_moved(position1,position2):\n",
    "            Coordinates_extrem.append(np.append(np.array(position1),np.array([position2[1]]),axis=0))\n",
    "    #if Coordinates_middle.__len__()-old_size==0:\n",
    "    #    config = Configuration(np.array(position1))\n",
    "    #    config.print_configuration()\n",
    "Coordinates_extrem = np.array(Coordinates_extrem)\n",
    "print(Coordinates_extrem.shape)"
   ]
  },
  {
   "cell_type": "code",
   "execution_count": null,
   "id": "be68590f-1951-4527-9c96-08f90bc02e74",
   "metadata": {},
   "outputs": [],
   "source": []
  }
 ],
 "metadata": {
  "kernelspec": {
   "display_name": "Python 3",
   "language": "python",
   "name": "python3"
  },
  "language_info": {
   "codemirror_mode": {
    "name": "ipython",
    "version": 3
   },
   "file_extension": ".py",
   "mimetype": "text/x-python",
   "name": "python",
   "nbconvert_exporter": "python",
   "pygments_lexer": "ipython3",
   "version": "3.8.8"
  }
 },
 "nbformat": 4,
 "nbformat_minor": 5
}
