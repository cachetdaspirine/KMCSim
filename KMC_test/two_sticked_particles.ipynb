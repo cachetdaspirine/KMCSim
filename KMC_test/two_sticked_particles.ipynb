{
 "cells": [
  {
   "cell_type": "code",
   "execution_count": 1,
   "id": "197f3bf9",
   "metadata": {},
   "outputs": [
    {
     "name": "stdout",
     "output_type": "stream",
     "text": [
      "# -----------------------------------------------------------------------------\n",
      "# KMCLib version 2.0-a1\n",
      "# Distributed under the GPLv3 license\n",
      "# Copyright (C)  2012-2016  Mikael Leetmaa\n",
      "# Developed by Mikael Leetmaa <leetmaa@kth.se>\n",
      "#\n",
      "# This program is distributed in the hope that it will be useful\n",
      "# but WITHOUT ANY WARRANTY; without even the implied warranty of\n",
      "# MERCHANTABILITY or FITNESS FOR A PARTICULAR PURPOSE.  See the\n",
      "# LICENSE and README files, and the source code, for details.\n",
      "#\n",
      "# You should have received a copy of the GNU General Public License version 3\n",
      "# (GPLv3) along with this program. If not, see <http://www.gnu.org/licenses/>.\n",
      "# -----------------------------------------------------------------------------\n",
      "\n"
     ]
    }
   ],
   "source": [
    "import numpy as np\n",
    "import matplotlib.pyplot as plt\n",
    "from KMCLib import *\n",
    "\n",
    "# import jtplot submodule from jupyterthemes\n",
    "from jupyterthemes import jtplot\n",
    "\n",
    "from KMCAnalysis_single_trajectory import *\n",
    "from gradient_color_line import *\n",
    "\n",
    "# currently installed theme will be used to\n",
    "# set plot style if no arguments provided\n",
    "jtplot.style()"
   ]
  },
  {
   "cell_type": "code",
   "execution_count": 2,
   "id": "c1c2b243",
   "metadata": {},
   "outputs": [],
   "source": [
    "# Define a squared unit cell.\n",
    "cell_vectors = [[   1.0000000e+00,   0.000000e+00,   0.000000e+00],\n",
    "                [   0.000000e+00,   1.000000e+00,   0.000000e+00],\n",
    "                [   0.000000e+00,   0.000000e+00,   1.000000e+00]]\n",
    "# idk what this does\n",
    "basis_points = [[   0.000000e+00,   0.000000e+00,   0.000000e+00]]\n",
    "unit_cell = KMCUnitCell(cell_vectors=cell_vectors,\n",
    "                        basis_points=basis_points)"
   ]
  },
  {
   "cell_type": "code",
   "execution_count": 3,
   "id": "c13018a2",
   "metadata": {},
   "outputs": [],
   "source": [
    "# Define the lattice\n",
    "size = 5\n",
    "lattice = KMCLattice(unit_cell=unit_cell,\n",
    "                     repetitions=(size,size,1),\n",
    "                     periodic=(True, True, False))"
   ]
  },
  {
   "cell_type": "code",
   "execution_count": 4,
   "id": "2b37a5d4",
   "metadata": {},
   "outputs": [
    {
     "name": "stdout",
     "output_type": "stream",
     "text": [
      "\n",
      "# -----------------------------------------------------------------------------\n",
      "# Unit cell\n",
      "\n",
      "cell_vectors = [[   1.000000e+00,   0.000000e+00,   0.000000e+00],\n",
      "                [   0.000000e+00,   1.000000e+00,   0.000000e+00],\n",
      "                [   0.000000e+00,   0.000000e+00,   1.000000e+00]]\n",
      "\n",
      "basis_points = [[   0.000000e+00,   0.000000e+00,   0.000000e+00]]\n",
      "\n",
      "unit_cell = KMCUnitCell(\n",
      "    cell_vectors=cell_vectors,\n",
      "    basis_points=basis_points)\n",
      "\n",
      "# -----------------------------------------------------------------------------\n",
      "# Lattice\n",
      "\n",
      "lattice = KMCLattice(\n",
      "    unit_cell=unit_cell,\n",
      "    repetitions=(5,5,1),\n",
      "    periodic=(True, True, False))\n",
      "\n",
      "# -----------------------------------------------------------------------------\n",
      "# Configuration\n",
      "\n",
      "types = ['E','E','E','E','E','E','E','E','E','E','P','P','E',\n",
      "         'E','E','E','E','E','E','E','E','E','E','E','E']\n",
      "\n",
      "possible_types = ['E','P']\n",
      "\n",
      "configuration = KMCConfiguration(\n",
      "    lattice=lattice,\n",
      "    types=types,\n",
      "    possible_types=possible_types)\n",
      "\n"
     ]
    }
   ],
   "source": [
    "# Generate the initial configuration array\n",
    "types = ['E']*(size*size)\n",
    "# index of a random non-border site\n",
    "xr,yr = np.random.randint(1,size-2),np.random.randint(1,size-2)\n",
    "# first particle\n",
    "types[xr+size*yr] = 'P'\n",
    "# second, neighboring one\n",
    "types[xr-1+size*yr] = 'P'\n",
    "config = KMCConfiguration(lattice=lattice,\n",
    "                          types=types,\n",
    "                          possible_types=['E','P'])\n",
    "print(config._script())"
   ]
  },
  {
   "cell_type": "code",
   "execution_count": 5,
   "id": "f4f8b986",
   "metadata": {},
   "outputs": [],
   "source": [
    "# Setup a diffusion process to the left.\n",
    "#  P1,P2,*, ->  P2,P1,*\n",
    "#                   center site      second site on 1 third site on 2\n",
    "coordinates_p0 = [[0.0, 0.0, 0.0],[0.0, 1.0, 0.0],[0.0,2.0,0.0]]\n",
    "p0 = KMCProcess(coordinates=coordinates_p0,\n",
    "                elements_before=['P','P','E'],\n",
    "                elements_after=['E','P','P'],\n",
    "                move_vectors=None,\n",
    "                basis_sites=[0],\n",
    "                rate_constant=1.)\n",
    "# Setup a diffusion process to the right.\n",
    "#  *,P1,P2 ->  P2,P1,*\n",
    "#                   center site      second site on 1 third site on 2\n",
    "coordinates_p0 = [[0.0, 0.0, 0.0],[0.0, -1.0, 0.0],[0.0,-2.0,0.0]]\n",
    "p1 = KMCProcess(coordinates=coordinates_p0,\n",
    "                elements_before=['P','P','E'],\n",
    "                elements_after=['E','P','P'],\n",
    "                move_vectors=None,\n",
    "                basis_sites=[0],\n",
    "                rate_constant=1.)\n",
    "# Setup a diffusion process to the top.\n",
    "#  P1,P2,*, ->  P2,P1,*\n",
    "#                   center site      second site on 1 third site on 2\n",
    "coordinates_p0 = [[0.0, 0.0, 0.0],[1.0, 0.0, 0.0],[2.0,0.0,0.0]]\n",
    "p2 = KMCProcess(coordinates=coordinates_p0,\n",
    "                elements_before=['P','P','E'],\n",
    "                elements_after=['E','P','P'],\n",
    "                move_vectors=None,\n",
    "                basis_sites=[0],\n",
    "                rate_constant=1.)\n",
    "# Setup a diffusion process to the bottom.\n",
    "#  *,P1,P2 ->  P2,P1,*\n",
    "#                   center site      second site on 1 third site on 2\n",
    "coordinates_p0 = [[0.0, 0.0, 0.0],[-1.0, 0.0, 0.0],[-2.0,0.0,0.0]]\n",
    "p3 = KMCProcess(coordinates=coordinates_p0,\n",
    "                elements_before=['P','P','E'],\n",
    "                elements_after=['E','P','P'],\n",
    "                move_vectors=None,\n",
    "                basis_sites=[0],\n",
    "                rate_constant=1.)\n",
    "# Setup a diffusion process to the bottom.\n",
    "#  *,P1,P2 ->  P2,P1,*\n",
    "#                   center site      second site on 1 third site on 2\n",
    "coordinates_p0 = [[0.0, 0.0, 0.0],[-1.0, 0.0, 0.0],[-2.0,0.0,0.0]]\n",
    "p3 = KMCProcess(coordinates=coordinates_p0,\n",
    "                elements_before=['P','P','E'],\n",
    "                elements_after=['E','P','P'],\n",
    "                move_vectors=None,\n",
    "                basis_sites=[0],\n",
    "                rate_constant=1.)\n",
    "# Construct the interactions object.\n",
    "interactions = KMCInteractions(processes=[p0,p1])#,p2,p3])"
   ]
  },
  {
   "cell_type": "code",
   "execution_count": 6,
   "id": "472b8c02",
   "metadata": {},
   "outputs": [],
   "source": [
    "# Generate the KMC model to run.\n",
    "model = KMCLatticeModel(configuration=config,\n",
    "                        interactions=interactions)\n",
    "control_parameters = KMCControlParameters(number_of_steps=100,\n",
    "                                          dump_interval=10,\n",
    "                                          analysis_interval=1,\n",
    "                                          seed=None)\n",
    "# generate the analysis object\n",
    "MyAnalysis = [SingleTrajectory('P',\n",
    "                              control_parameters.analysisInterval(),\n",
    "                              control_parameters.numberOfSteps())]"
   ]
  },
  {
   "cell_type": "code",
   "execution_count": 7,
   "id": "0dc5bb96",
   "metadata": {},
   "outputs": [
    {
     "name": "stdout",
     "output_type": "stream",
     "text": [
      " KMCLib: setting up the backend C++ object.\n",
      "[10 11]\n",
      " KMCLib: Runing for 100 steps, starting from time: 0.000000\n",
      "\n",
      " KMCLib: 10 steps executed. time:     6.4454279409e+00 \n",
      " KMCLib: 20 steps executed. time:     1.0331387194e+01 \n",
      " KMCLib: 30 steps executed. time:     1.7363426985e+01 \n",
      " KMCLib: 40 steps executed. time:     2.2561406104e+01 \n",
      " KMCLib: 50 steps executed. time:     2.7178050560e+01 \n",
      " KMCLib: 60 steps executed. time:     3.2544112096e+01 \n",
      " KMCLib: 70 steps executed. time:     3.7881536928e+01 \n",
      " KMCLib: 80 steps executed. time:     4.2150751920e+01 \n",
      " KMCLib: 90 steps executed. time:     4.5421816406e+01 \n",
      " KMCLib: 100 steps executed. time:     5.2213449059e+01 \n"
     ]
    }
   ],
   "source": [
    "model.run(control_parameters,trajectory_filename='test.py',\n",
    "          trajectory_type='lattice',\n",
    "          analysis = MyAnalysis)"
   ]
  },
  {
   "cell_type": "code",
   "execution_count": 8,
   "id": "aa561fbb",
   "metadata": {},
   "outputs": [
    {
     "data": {
      "text/plain": [
       "<matplotlib.collections.PathCollection at 0x7f1884771dc0>"
      ]
     },
     "execution_count": 8,
     "metadata": {},
     "output_type": "execute_result"
    },
    {
     "data": {
      "image/png": "[encoded data removed]",
      "text/plain": [
       "<Figure size 460.8x403.2 with 1 Axes>"
      ]
     },
     "metadata": {},
     "output_type": "display_data"
    }
   ],
   "source": [
    "plt.plot(MyAnalysis[0].results()[0][:,0], \n",
    "        MyAnalysis[0].results()[0][:,1])\n",
    "plt.scatter(MyAnalysis[0].results()[1][:,0], \n",
    "        MyAnalysis[0].results()[1][:,1])"
   ]
  },
  {
   "cell_type": "code",
   "execution_count": null,
   "id": "0d163d7d",
   "metadata": {},
   "outputs": [],
   "source": []
  }
 ],
 "metadata": {
  "kernelspec": {
   "display_name": "Python 3",
   "language": "python",
   "name": "python3"
  },
  "language_info": {
   "codemirror_mode": {
    "name": "ipython",
    "version": 3
   },
   "file_extension": ".py",
   "mimetype": "text/x-python",
   "name": "python",
   "nbconvert_exporter": "python",
   "pygments_lexer": "ipython3",
   "version": "3.8.8"
  }
 },
 "nbformat": 4,
 "nbformat_minor": 5
}
