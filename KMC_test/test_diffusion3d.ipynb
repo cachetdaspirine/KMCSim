{
 "cells": [
  {
   "cell_type": "code",
   "execution_count": 2,
   "metadata": {},
   "outputs": [
    {
     "name": "stdout",
     "output_type": "stream",
     "text": [
      "# -----------------------------------------------------------------------------\n",
      "# KMCLib version 2.0-a1\n",
      "# Distributed under the GPLv3 license\n",
      "# Copyright (C)  2012-2016  Mikael Leetmaa\n",
      "# Developed by Mikael Leetmaa <leetmaa@kth.se>\n",
      "#\n",
      "# This program is distributed in the hope that it will be useful\n",
      "# but WITHOUT ANY WARRANTY; without even the implied warranty of\n",
      "# MERCHANTABILITY or FITNESS FOR A PARTICULAR PURPOSE.  See the\n",
      "# LICENSE and README files, and the source code, for details.\n",
      "#\n",
      "# You should have received a copy of the GNU General Public License version 3\n",
      "# (GPLv3) along with this program. If not, see <http://www.gnu.org/licenses/>.\n",
      "# -----------------------------------------------------------------------------\n",
      "\n"
     ]
    }
   ],
   "source": [
    "import numpy as np\n",
    "import matplotlib.pyplot as plt\n",
    "from KMCLib import *\n",
    "\n",
    "from KMCAnalysis_single_trajectory import *\n",
    "from gradient_color_line import *"
   ]
  },
  {
   "cell_type": "code",
   "execution_count": 10,
   "metadata": {},
   "outputs": [],
   "source": [
    "# Define a squared unit cell.\n",
    "cell_vectors = [[   1.0000000e+00,   0.000000e+00,   0.000000e+00],\n",
    "                [   0.000000e+00,   1.000000e+00,   0.000000e+00],\n",
    "                [   0.000000e+00,   0.000000e+00,   1.000000e+00]]\n",
    "# Set a single basis point in the middle of the unit cell\n",
    "#  to [0.5,0.5,0.5]\n",
    "basis_points = [[   0.500000e+00,   0.500000e+00,   0.500000e+00]]\n",
    "unit_cell = KMCUnitCell(cell_vectors=cell_vectors,\n",
    "                        basis_points=basis_points)"
   ]
  },
  {
   "cell_type": "code",
   "execution_count": 11,
   "metadata": {},
   "outputs": [],
   "source": [
    "# Define a cubic box with periodic boundary conditions\n",
    "# Using the previously defined basis\n",
    "size = 5\n",
    "lattice = KMCLattice(unit_cell=unit_cell,\n",
    "                     repetitions=(size,size,size),\n",
    "                     periodic=(True, True, True))"
   ]
  },
  {
   "cell_type": "code",
   "execution_count": 12,
   "metadata": {},
   "outputs": [
    {
     "name": "stdout",
     "output_type": "stream",
     "text": [
      "\n",
      "# -----------------------------------------------------------------------------\n",
      "# Unit cell\n",
      "\n",
      "cell_vectors = [[   1.000000e+00,   0.000000e+00,   0.000000e+00],\n",
      "                [   0.000000e+00,   1.000000e+00,   0.000000e+00],\n",
      "                [   0.000000e+00,   0.000000e+00,   1.000000e+00]]\n",
      "\n",
      "basis_points = [[   5.000000e-01,   5.000000e-01,   5.000000e-01]]\n",
      "\n",
      "unit_cell = KMCUnitCell(\n",
      "    cell_vectors=cell_vectors,\n",
      "    basis_points=basis_points)\n",
      "\n",
      "# -----------------------------------------------------------------------------\n",
      "# Lattice\n",
      "\n",
      "lattice = KMCLattice(\n",
      "    unit_cell=unit_cell,\n",
      "    repetitions=(5,5,5),\n",
      "    periodic=(True, True, True))\n",
      "\n",
      "# -----------------------------------------------------------------------------\n",
      "# Configuration\n",
      "\n",
      "types = ['E','E','E','E','E','E','E','E','E','E','E','E','E',\n",
      "         'E','E','E','E','E','E','E','E','E','E','E','E','E',\n",
      "         'E','E','E','E','E','E','E','E','E','E','E','E','E',\n",
      "         'E','E','E','E','E','E','E','E','E','E','E','E','E',\n",
      "         'E','E','E','E','E','E','E','E','E','E','E','E','E',\n",
      "         'E','E','E','E','E','E','E','E','E','E','E','E','E',\n",
      "         'E','E','E','E','E','E','E','E','E','E','E','E','E',\n",
      "         'E','E','E','E','E','E','P','E','E','E','E','E','E',\n",
      "         'E','E','E','E','E','E','E','E','E','E','E','E','E',\n",
      "         'E','E','E','E','E','E','E','E']\n",
      "\n",
      "possible_types = ['E','P']\n",
      "\n",
      "configuration = KMCConfiguration(\n",
      "    lattice=lattice,\n",
      "    types=types,\n",
      "    possible_types=possible_types)\n",
      "\n"
     ]
    }
   ],
   "source": [
    "# Generate the initial configuration array\n",
    "types = ['E']*(size*size*size) # E is empty\n",
    "types[np.random.randint(0,size*size*size)] = 'P' # P is the particle\n",
    "config = KMCConfiguration(lattice=lattice, # the lattice previously defined\n",
    "                          types=types, # the initial configuration\n",
    "                          possible_types=['E','P'])\n",
    "print(config._script())"
   ]
  },
  {
   "cell_type": "code",
   "execution_count": 13,
   "metadata": {},
   "outputs": [],
   "source": [
    "# Setup a diffusion process to the left.\n",
    "#                   center site      second site on -1\n",
    "coordinates_p0 = [[0.0, 0.0, 0.0],[0.0, -1.0, 0.0]]\n",
    "p0 = KMCProcess(coordinates=coordinates_p0,\n",
    "                elements_before=['P','E'],\n",
    "                elements_after=['E','P'],\n",
    "                move_vectors=None, # no movement within the unit cell\n",
    "                basis_sites=[0], # apply to every basis site with the unit cell\n",
    "                rate_constant=1.) # diffusion constant\n",
    "\n",
    "# Setup a diffusion process to the right.\n",
    "#                  center site      second site on 1\n",
    "coordinates_p1 = [[0.0, 0.0, 0.0],[0.0, 1.0, 0.0]]\n",
    "p1 = KMCProcess(coordinates=coordinates_p1,\n",
    "                elements_before=['P','E'],\n",
    "                elements_after=['E','P'],\n",
    "                move_vectors=None,\n",
    "                basis_sites=[0],\n",
    "                rate_constant=1.)\n",
    "# Setup a diffusion process to the top.\n",
    "coordinates_p2 = [[0.0, 0.0, 0.0],[1.0, 0.0, 0.0]]\n",
    "p2 = KMCProcess(coordinates=coordinates_p2,\n",
    "                elements_before=['P','E'],\n",
    "                elements_after=['E','P'],\n",
    "                move_vectors=None,\n",
    "                basis_sites=[0],\n",
    "                rate_constant=1.)\n",
    "# Setup a diffusion process to the bottom.\n",
    "coordinates_p3 = [[0.0, 0.0, 0.0],[-1.0, 0.0, 0.0]]\n",
    "p3 = KMCProcess(coordinates=coordinates_p3,\n",
    "                elements_before=['P','E'],\n",
    "                elements_after=['E','P'],\n",
    "                move_vectors=None,\n",
    "                basis_sites=[0],\n",
    "                rate_constant=1.)\n",
    "coordinates_p4 = [[0.0, 0.0, 0.0],[0.0, 0.0, 1.0]]\n",
    "p4 = KMCProcess(coordinates=coordinates_p4,\n",
    "                elements_before=['P','E'],\n",
    "                elements_after=['E','P'],\n",
    "                move_vectors=None,\n",
    "                basis_sites=[0],\n",
    "                rate_constant=1.)\n",
    "coordinates_p5 = [[0.0, 0.0, 0.0],[0.0, 0.0, -1.0]]\n",
    "p5 = KMCProcess(coordinates=coordinates_p5,\n",
    "                elements_before=['P','E'],\n",
    "                elements_after=['E','P'],\n",
    "                move_vectors=None,\n",
    "                basis_sites=[0],\n",
    "                rate_constant=1.)\n",
    "\n",
    "# Construct the interactions object.\n",
    "interactions = KMCInteractions(processes=[p0, p1, p2, p3, p4, p5])"
   ]
  },
  {
   "cell_type": "code",
   "execution_count": null,
   "metadata": {},
   "outputs": [],
   "source": []
  }
 ],
 "metadata": {
  "kernelspec": {
   "display_name": "Python 3.8.8 ('base')",
   "language": "python",
   "name": "python3"
  },
  "language_info": {
   "codemirror_mode": {
    "name": "ipython",
    "version": 3
   },
   "file_extension": ".py",
   "mimetype": "text/x-python",
   "name": "python",
   "nbconvert_exporter": "python",
   "pygments_lexer": "ipython3",
   "version": "3.8.8"
  },
  "orig_nbformat": 4,
  "vscode": {
   "interpreter": {
    "hash": "1d5eeb8876f044179b361bcddd340056e6c77a1f8539f3472ec98ae68ef2c035"
   }
  }
 },
 "nbformat": 4,
 "nbformat_minor": 2
}
